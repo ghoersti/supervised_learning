{
 "cells": [
  {
   "cell_type": "code",
   "execution_count": 16,
   "id": "requested-christianity",
   "metadata": {},
   "outputs": [],
   "source": [
    "import pandas as pd\n",
    "import sklearn\n",
    "from sklearn.tree import DecisionTreeClassifier\n",
    "from sklearn.metrics import accuracy_score\n",
    "from sklearn.ensemble import AdaBoostClassifier\n",
    "from sklearn.model_selection import train_test_split, StratifiedKFold, cross_val_score, learning_curve, ShuffleSplit, validation_curve\n",
    "from sklearn.metrics import plot_confusion_matrix\n",
    "import numpy as np\n",
    "import numpy as np\n",
    "import matplotlib.pyplot as plt\n",
    "from sklearn.naive_bayes import GaussianNB\n",
    "from sklearn.svm import SVC\n",
    "from imblearn.pipeline import Pipeline\n",
    "from category_encoders.one_hot import OneHotEncoder\n",
    "from sklearn.impute import SimpleImputer\n",
    "from imblearn.over_sampling import RandomOverSampler, SMOTE\n",
    "from mlxtend.evaluate import bias_variance_decomp\n",
    "from mlxtend.plotting import plot_decision_regions\n",
    "from sklearn.metrics import classification_report\n",
    "from imblearn.under_sampling import RandomUnderSampler\n",
    "\n",
    "from sklearn.datasets import make_classification\n",
    "from sklearn.model_selection import RepeatedStratifiedKFold\n",
    "from sklearn.model_selection import GridSearchCV ,cross_validate\n",
    "from sklearn.ensemble import AdaBoostClassifier\n",
    "from sklearn import tree\n",
    "from sklearn.preprocessing import StandardScaler, MinMaxScaler\n",
    "from sklearn.neural_network import MLPClassifier\n",
    "from sklearn.neighbors import KNeighborsClassifier\n",
    "from sklearn.metrics import average_precision_score"
   ]
  },
  {
   "cell_type": "code",
   "execution_count": 2,
   "id": "cellular-sleep",
   "metadata": {},
   "outputs": [],
   "source": [
    "def my_learn_curve(title=\"some title\", \n",
    "                   estimator=None, \n",
    "                   cv = None ,\n",
    "                   X=None,\n",
    "                   y=None,\n",
    "                   label_suffix =  None,\n",
    "                   color_= [],\n",
    "                   shape='o-'):\n",
    "    plt.title(title)\n",
    "    plt.ylim(0.0, 1.01)\n",
    "    plt.xlabel(\"Training examples\")\n",
    "    plt.ylabel(\"Score\")\n",
    "\n",
    "    train_sizes, train_scores, test_scores, fit_times, _ = \\\n",
    "        learning_curve(estimator, X, y, cv=cv, n_jobs=4,\n",
    "                       train_sizes=np.linspace(.1, 1.0, 10),\n",
    "                       return_times=True)\n",
    "    train_scores_mean =  1.0 - np.mean(train_scores, axis=1)\n",
    "    train_scores_std = np.std(train_scores, axis=1)\n",
    "    test_scores_mean =  1.0 - np.mean(test_scores, axis=1)\n",
    "    test_scores_std = np.std(test_scores, axis=1)\n",
    "    fit_times_mean = np.mean(fit_times, axis=1)\n",
    "    fit_times_std = np.std(fit_times, axis=1)\n",
    "\n",
    "\n",
    "    # Plot learning curve\n",
    "    plt.grid()\n",
    "    plt.fill_between(train_sizes,  train_scores_mean - train_scores_std,\n",
    "                         train_scores_mean + train_scores_std, alpha=0.1,\n",
    "                         color=\"r\")\n",
    "    plt.fill_between(train_sizes,  test_scores_mean - test_scores_std,\n",
    "                         test_scores_mean + test_scores_std, alpha=0.1,\n",
    "                         color=\"g\")\n",
    "    plt.plot(train_sizes, train_scores_mean, shape, color=color_[0],\n",
    "                 label=\"Training Error - {}\".format(label_suffix))\n",
    "    plt.plot(train_sizes, test_scores_mean,shape, color=color_[1],\n",
    "                 label=\"Cross-validation Error - {}\".format(label_suffix))\n",
    "    plt.legend(loc=\"best\")\n",
    "    plt.ylabel(\"Error\")\n",
    "    return plt"
   ]
  },
  {
   "cell_type": "code",
   "execution_count": 9,
   "id": "arctic-conclusion",
   "metadata": {},
   "outputs": [],
   "source": [
    "parent_dir = '/mnt/c/users/17752/Documents/GeorgiaTech/machine_learning'"
   ]
  },
  {
   "cell_type": "markdown",
   "id": "marine-income",
   "metadata": {},
   "source": [
    "# Liver Data "
   ]
  },
  {
   "cell_type": "code",
   "execution_count": 13,
   "id": "christian-electricity",
   "metadata": {},
   "outputs": [],
   "source": [
    "import warnings\n",
    "warnings.filterwarnings(\"ignore\")"
   ]
  },
  {
   "cell_type": "code",
   "execution_count": 12,
   "id": "prospective-latter",
   "metadata": {
    "scrolled": false
   },
   "outputs": [],
   "source": [
    "liver_df = pd.read_csv(f\"{parent_dir}/data/liver.csv\")\n",
    "liver_df = pd.read_csv(f\"{parent_dir}/data/liver.csv\")\n",
    "liver_df.drop_duplicates(inplace=True)\n",
    "impute_Albumin_and_Globulin_Ratio = liver_df[~liver_df.Albumin_and_Globulin_Ratio.isna()].Albumin_and_Globulin_Ratio.mean()\n",
    "filt_ =  liver_df.Albumin_and_Globulin_Ratio.isna()\n",
    "liver_df.loc[filt_, \"Albumin_and_Globulin_Ratio\" ]= impute_Albumin_and_Globulin_Ratio\n",
    "assert sum(liver_df.Albumin_and_Globulin_Ratio.isna()) == 0 \n",
    "# format response \n",
    "liver_df.loc[(liver_df.Dataset ==2), \"Dataset\" ] = 0\n",
    "liver_df.head(10)\n",
    "liver_df.loc[:,\"Gender\"] = pd.get_dummies(liver_df.Gender, prefix='gender').drop(\"gender_Male\", axis =1  ).gender_Female\n",
    "X = liver_df.loc[:, \"Age\":\"Albumin_and_Globulin_Ratio\"]\n",
    "y = liver_df[\"Dataset\"]\n",
    "\n",
    "# get validation \n",
    "X_train, X_test, y_train, y_test = train_test_split(X, y, test_size=0.2, random_state=1)\n",
    "\n",
    "\n",
    "#('over', SMOTE(sampling_strategy=\"minority\")\n",
    "#inital shot \n",
    "def get_liver_pipeline(iter_=1):\n",
    "    liver_steps = [('scaler', MinMaxScaler()),\n",
    "                   (\"model\",   MLPClassifier( max_iter=iter_ , solver =\"adam\", momentum=False\n",
    "                                             ))]\n",
    "\n",
    "    return Pipeline(steps=liver_steps)\n",
    "\n",
    "stratified_kfold = StratifiedKFold(n_splits = 5, random_state=42, shuffle=True)\n",
    "val_train_scores = []\n",
    "for i in range (1,100,1):\n",
    "    scores = cross_validate(get_liver_pipeline(i), X_train, y_train, cv=stratified_kfold,\n",
    "                   scoring=('accuracy'),\n",
    "                    return_train_score=True)\n",
    "    val = 1. - scores['test_score'].mean()\n",
    "    training = 1. - scores['train_score'].mean()\n",
    "    epoch = i\n",
    "    val_train_scores.append([training,val,epoch])\n",
    "    \n",
    "pd_val = pd.DataFrame(val_train_scores, columns=[\"Training\", \"Cross_Validation\",\"epoch\"])\n",
    "val_plot =pd_val.plot(y=[\"Training\", \"Cross_Validation\"],x=\"epoch\", title=\"MLP Learning Curve-SGD No Monentum\" )\n",
    "plt.ylim(0.0, 1.01)\n",
    "plt.ylabel('Error')\n",
    "plt.xlabel('Epoch')\n",
    "   \n",
    "    \n",
    "#adaptive moment estimation"
   ]
  },
  {
   "cell_type": "code",
   "execution_count": null,
   "id": "hungarian-robin",
   "metadata": {
    "scrolled": true
   },
   "outputs": [],
   "source": [
    "my_learn_curve(title=\" MLP \", \n",
    "               estimator=get_liver_pipeline(400), \n",
    "               cv=stratified_kfold, \n",
    "               X=X_train,\n",
    "               y=y_train,\n",
    "               label_suffix=\"Base MLP\", \n",
    "               color_=[\"red\",\"green\"],\n",
    "               shape = 'o-'  )"
   ]
  },
  {
   "cell_type": "code",
   "execution_count": null,
   "id": "developed-computer",
   "metadata": {},
   "outputs": [],
   "source": [
    "plot_confusion_matrix(estimator= get_liver_pipeline(400).fit(X_train,y_train), X=X_test, y_true= y_test  , \n",
    "                      cmap=plt.cm.Blues,\n",
    "                       normalize=\"true\",\n",
    "                      display_labels = [\"Not Patient\" ,\"Patient\"]\n",
    "                        )"
   ]
  },
  {
   "cell_type": "markdown",
   "id": "loving-shirt",
   "metadata": {},
   "source": [
    "## Validation Curve"
   ]
  },
  {
   "cell_type": "code",
   "execution_count": 14,
   "id": "robust-freedom",
   "metadata": {},
   "outputs": [],
   "source": [
    "import warnings\n",
    "warnings.filterwarnings(\"ignore\")"
   ]
  },
  {
   "cell_type": "code",
   "execution_count": null,
   "id": "bored-conclusion",
   "metadata": {},
   "outputs": [],
   "source": [
    "# cv = ShuffleSplit(n_splits=10, test_size=0.1, random_state=0)\n",
    "cv = RepeatedStratifiedKFold(n_splits=5, n_repeats=1, random_state=45)\n",
    "train_scores, valid_scores = validation_curve(get_liver_pipeline(50),\n",
    "                                              X_train,\n",
    "                                              y_train, \n",
    "                                              param_name =  \"model__max_iter\",\n",
    "                                            param_range =[ i for i in range (1,600,40)] ,\n",
    "                                            cv=cv)\n",
    "\n",
    "param_range =   np.array([ i for i in range (1,600,40)] )\n",
    "train_scores_mean =  np.mean(train_scores, axis=1)\n",
    "train_scores_std = np.std(train_scores, axis=1)\n",
    "test_scores_mean = np.mean(valid_scores, axis=1)\n",
    "test_scores_std = np.std(valid_scores, axis=1)\n",
    "\n",
    "plt.title(\"Complexity Curve\")\n",
    "plt.xlabel(\"Training Iterations\")\n",
    "plt.ylabel(\"Score\")\n",
    "plt.ylim(0.0, 1.1)\n",
    "lw = 2\n",
    "# semilogx\n",
    "plt.plot(param_range, train_scores_mean, label=\"Training score\",\n",
    "             color=\"darkorange\", lw=lw)\n",
    "\n",
    "plt.fill_between(param_range, train_scores_mean - train_scores_std,\n",
    "                 train_scores_mean + train_scores_std, alpha=0.2,\n",
    "                 color=\"darkorange\", lw=lw)\n",
    "plt.plot(param_range, test_scores_mean, label=\"Cross-validation score\",\n",
    "             color=\"navy\", lw=lw)\n",
    "plt.fill_between(param_range, test_scores_mean - test_scores_std,\n",
    "                 test_scores_mean + test_scores_std, alpha=0.2,\n",
    "                 color=\"navy\", lw=lw)\n",
    "plt.legend(loc=\"best\")\n",
    "\n",
    "\n",
    "plt.savefig(\"MLP_LIVER_MAX_ITER.pdf\")\n",
    "\n",
    "plt.show()"
   ]
  },
  {
   "cell_type": "code",
   "execution_count": null,
   "id": "starting-power",
   "metadata": {},
   "outputs": [],
   "source": [
    "# cv = ShuffleSplit(n_splits=10, test_size=0.1, random_state=0)\n",
    "cv = RepeatedStratifiedKFold(n_splits=5, n_repeats=1, random_state=45)\n",
    "train_scores, valid_scores = validation_curve(get_liver_pipeline(400),\n",
    "                                              X_train,\n",
    "                                              y_train, \n",
    "                                              param_name =  \"model__alpha\",\n",
    "                                            param_range =np.linspace(0.0001,1.,10) ,\n",
    "                                            cv=cv)\n",
    "\n",
    "param_range =   np.linspace(0.0001,2.,10)\n",
    "train_scores_mean =  np.mean(train_scores, axis=1)\n",
    "train_scores_std = np.std(train_scores, axis=1)\n",
    "test_scores_mean = np.mean(valid_scores, axis=1)\n",
    "test_scores_std = np.std(valid_scores, axis=1)\n",
    "\n",
    "plt.title(\"Complexity Curve MLP\")\n",
    "plt.xlabel(\"Alpha\")\n",
    "plt.ylabel(\"Score\")\n",
    "plt.ylim(0.0, 1.1)\n",
    "lw = 2\n",
    "# semilogx\n",
    "plt.plot(param_range, train_scores_mean, label=\"Training score\",\n",
    "             color=\"darkorange\", lw=lw)\n",
    "\n",
    "plt.fill_between(param_range, train_scores_mean - train_scores_std,\n",
    "                 train_scores_mean + train_scores_std, alpha=0.2,\n",
    "                 color=\"darkorange\", lw=lw)\n",
    "plt.plot(param_range, test_scores_mean, label=\"Cross-validation score\",\n",
    "             color=\"navy\", lw=lw)\n",
    "plt.fill_between(param_range, test_scores_mean - test_scores_std,\n",
    "                 test_scores_mean + test_scores_std, alpha=0.2,\n",
    "                 color=\"navy\", lw=lw)\n",
    "plt.legend(loc=\"best\")\n",
    "\n",
    "\n",
    "plt.savefig(\"MLP_LIVER_alpha_adam.pdf\")\n",
    "\n",
    "plt.show()"
   ]
  },
  {
   "cell_type": "code",
   "execution_count": 3,
   "id": "streaming-homework",
   "metadata": {},
   "outputs": [],
   "source": [
    "MLPClassifier?"
   ]
  },
  {
   "cell_type": "code",
   "execution_count": 4,
   "id": "acceptable-collapse",
   "metadata": {},
   "outputs": [
    {
     "ename": "NameError",
     "evalue": "name 'get_liver_pipeline' is not defined",
     "output_type": "error",
     "traceback": [
      "\u001b[0;31m---------------------------------------------------------------------------\u001b[0m",
      "\u001b[0;31mNameError\u001b[0m                                 Traceback (most recent call last)",
      "\u001b[0;32m<ipython-input-4-5cd4630aafe0>\u001b[0m in \u001b[0;36m<module>\u001b[0;34m\u001b[0m\n\u001b[0;32m----> 1\u001b[0;31m \u001b[0mget_liver_pipeline\u001b[0m\u001b[0;34m(\u001b[0m\u001b[0;36m50\u001b[0m\u001b[0;34m)\u001b[0m\u001b[0;34m.\u001b[0m\u001b[0mget_params\u001b[0m\u001b[0;34m(\u001b[0m\u001b[0;34m)\u001b[0m\u001b[0;34m\u001b[0m\u001b[0;34m\u001b[0m\u001b[0m\n\u001b[0m",
      "\u001b[0;31mNameError\u001b[0m: name 'get_liver_pipeline' is not defined"
     ]
    }
   ],
   "source": [
    "get_liver_pipeline(50).get_params()"
   ]
  },
  {
   "cell_type": "markdown",
   "id": "happy-shelf",
   "metadata": {},
   "source": [
    "## Grid Search Liver "
   ]
  },
  {
   "cell_type": "code",
   "execution_count": null,
   "id": "prospective-premiere",
   "metadata": {},
   "outputs": [],
   "source": [
    "# Set the parameters by cross-validation\n",
    "\n",
    "\n",
    "\n",
    "tuned_parameters = {'model__activation': [\"logistic\",\"tanh\",\"relu\"], \n",
    "                    'model__alpha': np.linspace(0.0001,.5,15),\n",
    "                    \"model__solver\" : [\"sgd\",\"adam\",\"lbfgs\"],\n",
    "                    \"model__learning_rate\": [\"constant\", \"invscaling\"] ,\n",
    "                     \"model__max_iter\" : [ i for i in range(10,400,20)]}\n",
    "                    \n",
    "\n",
    "\n",
    "# define the evaluation procedure\n",
    "cv = RepeatedStratifiedKFold(n_splits=10, n_repeats=2, random_state=45)\n",
    "# define the grid search procedure\n",
    "grid_search = GridSearchCV(estimator=get_liver_pipeline(1), param_grid=tuned_parameters, \n",
    "                           n_jobs=-1, cv=cv, \n",
    "                           scoring='average_precision')\n",
    "# execute the grid search\n",
    "grid_result_l = grid_search.fit(X_train, y_train)\n",
    "# summarize the best score and configuration\n",
    "print(\"Best: %f usin g %s\" % (grid_result_l.best_score_, grid_result_l.best_params_))\n",
    "# summarize all scores that were evaluated\n",
    "means = grid_result_l.cv_results_['mean_test_score']\n",
    "stds = grid_result_l.cv_results_['std_test_score']\n",
    "params = grid_result_l.cv_results_['params']"
   ]
  },
  {
   "cell_type": "code",
   "execution_count": null,
   "id": "random-registrar",
   "metadata": {},
   "outputs": [],
   "source": [
    "# Best: 0.906910 usin g {'model__activation': 'logistic', 'model__alpha': 0.035807142857142864, 'model__learning_rate': 'invscaling', 'model__max_iter': 70, 'model__solver': 'lbfgs'}"
   ]
  },
  {
   "cell_type": "code",
   "execution_count": 5,
   "id": "stopped-amazon",
   "metadata": {},
   "outputs": [],
   "source": [
    "def get_liver_pipeline_final(iter_=70,):\n",
    "    liver_steps = [('scaler', MinMaxScaler()),\n",
    "                   (\"model\",   MLPClassifier( max_iter=iter_ ,\n",
    "                                             solver =\"lbfgs\",\n",
    "                                             learning_rate = \"invscaling\",\n",
    "                                             activation=\"logistic\",\n",
    "                                             alpha= 0.035807142857142864, \n",
    "                                             random_state = 12, \n",
    "                                             early_stopping=True\n",
    "                                             \n",
    "                                             ))]\n",
    "\n",
    "    return Pipeline(steps=liver_steps)"
   ]
  },
  {
   "cell_type": "code",
   "execution_count": 6,
   "id": "divine-thread",
   "metadata": {},
   "outputs": [
    {
     "ename": "NameError",
     "evalue": "name 'get_liver_pipeline_final' is not defined",
     "output_type": "error",
     "traceback": [
      "\u001b[0;31m---------------------------------------------------------------------------\u001b[0m",
      "\u001b[0;31mNameError\u001b[0m                                 Traceback (most recent call last)",
      "\u001b[0;32m<ipython-input-6-ffc9e7b9b7cb>\u001b[0m in \u001b[0;36m<module>\u001b[0;34m\u001b[0m\n\u001b[1;32m      1\u001b[0m my_learn_curve(title=\" Support Vector Machine\", \n\u001b[0;32m----> 2\u001b[0;31m                \u001b[0mestimator\u001b[0m\u001b[0;34m=\u001b[0m\u001b[0mget_liver_pipeline_final\u001b[0m\u001b[0;34m(\u001b[0m\u001b[0msolver_\u001b[0m\u001b[0;34m=\u001b[0m\u001b[0;34m\"sgd\"\u001b[0m \u001b[0;34m)\u001b[0m\u001b[0;34m,\u001b[0m\u001b[0;34m\u001b[0m\u001b[0;34m\u001b[0m\u001b[0m\n\u001b[0m\u001b[1;32m      3\u001b[0m                \u001b[0mcv\u001b[0m\u001b[0;34m=\u001b[0m\u001b[0mstratified_kfold\u001b[0m\u001b[0;34m,\u001b[0m\u001b[0;34m\u001b[0m\u001b[0;34m\u001b[0m\u001b[0m\n\u001b[1;32m      4\u001b[0m                \u001b[0mX\u001b[0m\u001b[0;34m=\u001b[0m\u001b[0mX_train\u001b[0m\u001b[0;34m,\u001b[0m\u001b[0;34m\u001b[0m\u001b[0;34m\u001b[0m\u001b[0m\n\u001b[1;32m      5\u001b[0m                \u001b[0my\u001b[0m\u001b[0;34m=\u001b[0m\u001b[0my_train\u001b[0m\u001b[0;34m,\u001b[0m\u001b[0;34m\u001b[0m\u001b[0;34m\u001b[0m\u001b[0m\n",
      "\u001b[0;31mNameError\u001b[0m: name 'get_liver_pipeline_final' is not defined"
     ]
    }
   ],
   "source": [
    "\n",
    "my_learn_curve(title=\" Support Vector Machine\", \n",
    "               estimator=get_liver_pipeline_final(solver_=\"adam\" ), \n",
    "               cv=stratified_kfold, \n",
    "               X=X_train,\n",
    "               y=y_train,\n",
    "               label_suffix=\"best-rbf\", \n",
    "               color_=[\"red\",\"green\"],\n",
    "               shape = 'o-'  )\n",
    "\n",
    "# my_learn_curve(title=\" Support Vector Machine\", \n",
    "#                estimator=liver_pipeline_linear.fit(X_train,y_train), \n",
    "#                cv=stratified_kfold,\n",
    "#                X=X_train,\n",
    "#                y=y_train ,\n",
    "#                label_suffix=\"rbf\", \n",
    "#                color_=[\"orange\",\"blue\"], shape = 'x-' )"
   ]
  },
  {
   "cell_type": "code",
   "execution_count": 6,
   "id": "grand-framework",
   "metadata": {},
   "outputs": [
    {
     "data": {
      "text/plain": [
       "{'memory': None,\n",
       " 'steps': [('scaler', MinMaxScaler()),\n",
       "  ('model',\n",
       "   MLPClassifier(activation='logistic', alpha=0.035807142857142864,\n",
       "                 early_stopping=True, learning_rate='invscaling', max_iter=70,\n",
       "                 random_state=12, solver='lbfgs'))],\n",
       " 'verbose': False,\n",
       " 'scaler': MinMaxScaler(),\n",
       " 'model': MLPClassifier(activation='logistic', alpha=0.035807142857142864,\n",
       "               early_stopping=True, learning_rate='invscaling', max_iter=70,\n",
       "               random_state=12, solver='lbfgs'),\n",
       " 'scaler__copy': True,\n",
       " 'scaler__feature_range': (0, 1),\n",
       " 'model__activation': 'logistic',\n",
       " 'model__alpha': 0.035807142857142864,\n",
       " 'model__batch_size': 'auto',\n",
       " 'model__beta_1': 0.9,\n",
       " 'model__beta_2': 0.999,\n",
       " 'model__early_stopping': True,\n",
       " 'model__epsilon': 1e-08,\n",
       " 'model__hidden_layer_sizes': (100,),\n",
       " 'model__learning_rate': 'invscaling',\n",
       " 'model__learning_rate_init': 0.001,\n",
       " 'model__max_fun': 15000,\n",
       " 'model__max_iter': 70,\n",
       " 'model__momentum': 0.9,\n",
       " 'model__n_iter_no_change': 10,\n",
       " 'model__nesterovs_momentum': True,\n",
       " 'model__power_t': 0.5,\n",
       " 'model__random_state': 12,\n",
       " 'model__shuffle': True,\n",
       " 'model__solver': 'lbfgs',\n",
       " 'model__tol': 0.0001,\n",
       " 'model__validation_fraction': 0.1,\n",
       " 'model__verbose': False,\n",
       " 'model__warm_start': False}"
      ]
     },
     "execution_count": 6,
     "metadata": {},
     "output_type": "execute_result"
    }
   ],
   "source": [
    "get_liver_pipeline_final().get_params()"
   ]
  },
  {
   "cell_type": "code",
   "execution_count": null,
   "id": "furnished-masters",
   "metadata": {},
   "outputs": [],
   "source": [
    "stratified_kfold = StratifiedKFold(n_splits = 10, random_state=42, shuffle=True)\n",
    "val_train_scores = []\n",
    "for i in range (1,80,5):\n",
    "    scores = cross_validate(get_liver_pipeline_final(i), X_train, y_train, cv=stratified_kfold,\n",
    "                   scoring=('accuracy'),\n",
    "                    return_train_score=True)\n",
    "    val = 1. - scores['test_score'].mean()\n",
    "    training = 1. - scores['train_score'].mean()\n",
    "    epoch = i\n",
    "    val_train_scores.append([training,val,epoch])\n",
    "    \n",
    "pd_val = pd.DataFrame(val_train_scores, columns=[\"Training\", \"Cross_Validation\",\"epoch\"])\n",
    "val_plot =pd_val.plot(y=[\"Training\", \"Cross_Validation\"],x=\"epoch\", title=\"MLP Learning Curve-LBFGS\" )\n",
    "plt.ylim(0.0, 1.1)\n",
    "plt.ylabel('Error')\n",
    "plt.xlabel('Epoch')\n",
    "plt.savefig(\"MLP_FINAL_LIVER_LEARNING_CURVE.pdf\")"
   ]
  },
  {
   "cell_type": "code",
   "execution_count": null,
   "id": "transsexual-freeze",
   "metadata": {},
   "outputs": [],
   "source": [
    "plot_confusion_matrix(estimator= get_liver_pipeline_final( ).fit(X_train,y_train), X=X_test, y_true= y_test  , \n",
    "                      cmap=plt.cm.Blues,\n",
    "                       normalize=\"true\",\n",
    "                      display_labels = [\"Not Patient\" ,\"Patient\"]\n",
    "                        )\n",
    "\n"
   ]
  },
  {
   "cell_type": "code",
   "execution_count": 24,
   "id": "european-separate",
   "metadata": {},
   "outputs": [],
   "source": [
    "def get_liver_pipeline_base():\n",
    "    liver_steps = [('scaler', MinMaxScaler()),\n",
    "                   (\"model\",   MLPClassifier(\n",
    "                                             solver =\"sgd\",\n",
    "                                             activation=\"logistic\",\n",
    "                                             random_state = 12\n",
    "                                             ))]\n",
    "\n",
    "    return Pipeline(steps=liver_steps)"
   ]
  },
  {
   "cell_type": "code",
   "execution_count": 25,
   "id": "sound-regulation",
   "metadata": {},
   "outputs": [
    {
     "data": {
      "text/plain": [
       "0.7117181488738253"
      ]
     },
     "execution_count": 25,
     "metadata": {},
     "output_type": "execute_result"
    }
   ],
   "source": []
  },
  {
   "cell_type": "code",
   "execution_count": 27,
   "id": "trained-windsor",
   "metadata": {},
   "outputs": [
    {
     "name": "stdout",
     "output_type": "stream",
     "text": [
      "0.7117181488738253\n",
      "0.910525480393755\n",
      "0.8744202551854581\n"
     ]
    }
   ],
   "source": [
    "base = get_liver_pipeline_base()\n",
    "print(average_precision_score(y_train, base.fit(X_train,y_train).predict_proba(X_train)[:,1]))\n",
    "print(average_precision_score(y_train, final_liver.predict_proba(X_train)[:,1]))\n",
    "print(average_precision_score(y_test, final_liver.predict_proba(X_test)[:,1]))"
   ]
  },
  {
   "cell_type": "code",
   "execution_count": 19,
   "id": "still-blind",
   "metadata": {},
   "outputs": [
    {
     "data": {
      "text/plain": [
       "0.8744202551854581"
      ]
     },
     "execution_count": 19,
     "metadata": {},
     "output_type": "execute_result"
    }
   ],
   "source": []
  },
  {
   "cell_type": "code",
   "execution_count": 15,
   "id": "solar-helen",
   "metadata": {},
   "outputs": [
    {
     "name": "stdout",
     "output_type": "stream",
     "text": [
      "{'memory': None, 'steps': [('scaler', MinMaxScaler()), ('model', MLPClassifier(activation='logistic', alpha=0.035807142857142864,\n",
      "              early_stopping=True, learning_rate='invscaling', max_iter=70,\n",
      "              random_state=12, solver='lbfgs'))], 'verbose': False, 'scaler': MinMaxScaler(), 'model': MLPClassifier(activation='logistic', alpha=0.035807142857142864,\n",
      "              early_stopping=True, learning_rate='invscaling', max_iter=70,\n",
      "              random_state=12, solver='lbfgs'), 'scaler__copy': True, 'scaler__feature_range': (0, 1), 'model__activation': 'logistic', 'model__alpha': 0.035807142857142864, 'model__batch_size': 'auto', 'model__beta_1': 0.9, 'model__beta_2': 0.999, 'model__early_stopping': True, 'model__epsilon': 1e-08, 'model__hidden_layer_sizes': (100,), 'model__learning_rate': 'invscaling', 'model__learning_rate_init': 0.001, 'model__max_fun': 15000, 'model__max_iter': 70, 'model__momentum': 0.9, 'model__n_iter_no_change': 10, 'model__nesterovs_momentum': True, 'model__power_t': 0.5, 'model__random_state': 12, 'model__shuffle': True, 'model__solver': 'lbfgs', 'model__tol': 0.0001, 'model__validation_fraction': 0.1, 'model__verbose': False, 'model__warm_start': False}\n",
      "              precision    recall  f1-score   support\n",
      "\n",
      "           0       0.55      0.29      0.38       131\n",
      "           1       0.76      0.90      0.83       325\n",
      "\n",
      "    accuracy                           0.73       456\n",
      "   macro avg       0.66      0.60      0.60       456\n",
      "weighted avg       0.70      0.73      0.70       456\n",
      "\n",
      "              precision    recall  f1-score   support\n",
      "\n",
      "           0       0.71      0.36      0.48        33\n",
      "           1       0.78      0.94      0.85        81\n",
      "\n",
      "    accuracy                           0.77       114\n",
      "   macro avg       0.74      0.65      0.67       114\n",
      "weighted avg       0.76      0.77      0.75       114\n",
      "\n"
     ]
    }
   ],
   "source": [
    "final_liver = get_liver_pipeline_final().fit(X_train,y_train)\n",
    "print(final_liver.get_params())\n",
    "print(classification_report(y_train, final_liver.predict(X_train) ))\n",
    "print(classification_report(y_test, final_liver.predict(X_test) ))"
   ]
  },
  {
   "cell_type": "markdown",
   "id": "loose-sixth",
   "metadata": {},
   "source": [
    "## Census Data "
   ]
  },
  {
   "cell_type": "code",
   "execution_count": 33,
   "id": "regional-finding",
   "metadata": {},
   "outputs": [
    {
     "name": "stdout",
     "output_type": "stream",
     "text": [
      "Train data shape is (26029, 15)\n",
      "Test data shape is (6508, 15)\n"
     ]
    }
   ],
   "source": [
    "census_df = pd.read_csv(f\"{parent_dir}/data/adult.csv\")\n",
    "census_df.drop_duplicates(inplace=True)\n",
    "# # Deleting duplicates \n",
    "census_df.duplicated().sum()\n",
    "#Replacing '?' for nans\n",
    "census_df = census_df.replace('?', np.NaN)\n",
    "# Mapping already our target variable in  1 and 0.\n",
    "census_df.income = census_df.income.map({'<=50K':0, '>50K':1})\n",
    "\n",
    "train_data, test_data = train_test_split(census_df,\n",
    "                                         test_size=0.2,\n",
    "                                         stratify=census_df['income'],\n",
    "                                         random_state=65)\n",
    "print('Train data shape is {}'.format(train_data.shape))\n",
    "print('Test data shape is {}'.format(test_data.shape))\n",
    "X_c_train = train_data.drop('income', axis=1)\n",
    "y_c_train = train_data['income']\n",
    "X_c_test= test_data.drop('income', axis=1)\n",
    "y_c_test= test_data['income']\n",
    "\n",
    "#Transforming categorical columns\n",
    "categorical_columns= X_c_train.select_dtypes(object).columns\n",
    "\n",
    "\n",
    "\n",
    "def get_census_pipeline(iter_=1):\n",
    "    liver_steps = [('encoding', OneHotEncoder(cols=categorical_columns)),\n",
    "         ('imputer',SimpleImputer(missing_values=np.NaN, strategy='most_frequent')),\n",
    "         ('scaler', StandardScaler()),\n",
    "                   (\"model\",   MLPClassifier( max_iter=iter_ , solver =\"adam\"\n",
    "                                             ))]\n",
    "    return Pipeline(steps=liver_steps)\n",
    "\n",
    "\n",
    "\n",
    "stratified_kfold = StratifiedKFold(n_splits = 5, random_state=42, shuffle=True)\n",
    "val_train_scores = []\n",
    "for i in range (1,200,25):\n",
    "    scores = cross_validate(get_census_pipeline(i), X_c_train, y_c_train, cv=stratified_kfold,\n",
    "                   scoring=('accuracy'),\n",
    "                    return_train_score=True)\n",
    "    val = 1. - scores['test_score'].mean()\n",
    "    training = 1. - scores['train_score'].mean()\n",
    "    epoch = i\n",
    "    val_train_scores.append([training,val,epoch])\n",
    "    \n",
    "pd_val = pd.DataFrame(val_train_scores, columns=[\"Training\", \"Cross_Validation\",\"epoch\"])\n",
    "val_plot =pd_val.plot(y=[\"Training\", \"Cross_Validation\"],x=\"epoch\", title=\"MLP Learning Curve-SGD No Monentum\" )\n",
    "plt.ylim(0.0, 1.01)\n",
    "plt.ylabel('Error')\n",
    "plt.xlabel('Epoch')\n",
    "plt.savefig(\"MLP_BASE_CENSUS_LEARNING_CURVE_SGD.pdf\")"
   ]
  },
  {
   "cell_type": "code",
   "execution_count": 12,
   "id": "alive-volunteer",
   "metadata": {},
   "outputs": [],
   "source": [
    "def get_census_pipeline(iter_=1):\n",
    "    liver_steps = [('encoding', OneHotEncoder(cols=categorical_columns)),\n",
    "         ('imputer',SimpleImputer(missing_values=np.NaN, strategy='most_frequent')),\n",
    "         ('scaler', StandardScaler()),\n",
    "                   (\"model\",   MLPClassifier( max_iter=iter_ , solver =\"adam\"\n",
    "                                             ))]\n",
    "    return Pipeline(steps=liver_steps)"
   ]
  },
  {
   "cell_type": "code",
   "execution_count": 13,
   "id": "supposed-contamination",
   "metadata": {},
   "outputs": [
    {
     "data": {
      "text/plain": [
       "<module 'matplotlib.pyplot' from '/home/flufylobster/anaconda3/envs/ML39/lib/python3.9/site-packages/matplotlib/pyplot.py'>"
      ]
     },
     "execution_count": 13,
     "metadata": {},
     "output_type": "execute_result"
    },
    {
     "data": {
      "image/png": "[encoded data removed]",
      "text/plain": [
       "<Figure size 432x288 with 1 Axes>"
      ]
     },
     "metadata": {
      "needs_background": "light"
     },
     "output_type": "display_data"
    }
   ],
   "source": [
    "\n",
    "my_learn_curve(title=\" Support Vector Machine\", \n",
    "               estimator=get_census_pipeline(50), \n",
    "               cv=stratified_kfold,\n",
    "               X=X_c_train, \n",
    "               y=y_c_train,  \n",
    "               label_suffix=\"linear\", \n",
    "               color_=[\"orange\",\"blue\"],\n",
    "               shape = 'o-'  )\n",
    "\n",
    "\n",
    "# my_learn_curve(title=\" Support Vector Machine\", \n",
    "#                estimator=census_pipeline_rbf, \n",
    "#                cv=stratified_kfold,\n",
    "#                X=X_c_train, \n",
    "#                y=y_c_train,  \n",
    "#                label_suffix=\"rbf\", \n",
    "#                color_=[\"orange\",\"blue\"],\n",
    "#                shape = 'x-'  )\n",
    "\n"
   ]
  },
  {
   "cell_type": "code",
   "execution_count": null,
   "id": "expressed-acoustic",
   "metadata": {},
   "outputs": [],
   "source": [
    "plot_confusion_matrix(estimator= census_pipeline_rbf.fit(X_c_train,y_c_train),\n",
    "                      X=X_c_train,\n",
    "                      y_true= y_c_train  , \n",
    "                      cmap=plt.cm.Blues,\n",
    "                       normalize=\"true\",\n",
    "                      display_labels = [\"Not Patient\" ,\"Patient\"]\n",
    "                        )"
   ]
  },
  {
   "cell_type": "code",
   "execution_count": null,
   "id": "silent-capture",
   "metadata": {},
   "outputs": [],
   "source": [
    "plot_confusion_matrix(estimator= census_pipeline_linear.fit(X_c_train,y_c_train),\n",
    "                      X=X_c_train,\n",
    "                      y_true= y_c_train  , \n",
    "                      cmap=plt.cm.Blues,\n",
    "                       normalize=\"true\",\n",
    "                      display_labels = [\"Not Patient\" ,\"Patient\"]\n",
    "                        )"
   ]
  },
  {
   "cell_type": "markdown",
   "id": "agreed-wholesale",
   "metadata": {},
   "source": [
    "## Complexity \n"
   ]
  },
  {
   "cell_type": "code",
   "execution_count": 18,
   "id": "swiss-solid",
   "metadata": {},
   "outputs": [
    {
     "data": {
      "image/png": "[encoded data removed]",
      "text/plain": [
       "<Figure size 432x288 with 1 Axes>"
      ]
     },
     "metadata": {
      "needs_background": "light"
     },
     "output_type": "display_data"
    }
   ],
   "source": [
    "# cv = ShuffleSplit(n_splits=10, test_size=0.1, random_state=0)\n",
    "cv = RepeatedStratifiedKFold(n_splits=5, n_repeats=1, random_state=45)\n",
    "train_scores, valid_scores = validation_curve(get_census_pipeline(1),\n",
    "                                              X_c_train,\n",
    "                                              y_c_train, \n",
    "                                              param_name =  \"model__max_iter\",\n",
    "                                            param_range =[ i for i in range (1,50,5)] ,\n",
    "                                            cv=cv)\n",
    "\n",
    "param_range =   np.array([ i for i in range (1,50,5)])\n",
    "train_scores_mean =  np.mean(train_scores, axis=1)\n",
    "train_scores_std = np.std(train_scores, axis=1)\n",
    "test_scores_mean = np.mean(valid_scores, axis=1)\n",
    "test_scores_std = np.std(valid_scores, axis=1)\n",
    "\n",
    "plt.title(\"Complexity Curve\")\n",
    "plt.xlabel(\"Training Iterations\")\n",
    "plt.ylabel(\"Score\")\n",
    "plt.ylim(0.0, 1.1)\n",
    "lw = 2\n",
    "# semilogx\n",
    "plt.plot(param_range, train_scores_mean, label=\"Training score\",\n",
    "             color=\"darkorange\", lw=lw)\n",
    "\n",
    "plt.fill_between(param_range, train_scores_mean - train_scores_std,\n",
    "                 train_scores_mean + train_scores_std, alpha=0.2,\n",
    "                 color=\"darkorange\", lw=lw)\n",
    "plt.plot(param_range, test_scores_mean, label=\"Cross-validation score\",\n",
    "             color=\"navy\", lw=lw)\n",
    "plt.fill_between(param_range, test_scores_mean - test_scores_std,\n",
    "                 test_scores_mean + test_scores_std, alpha=0.2,\n",
    "                 color=\"navy\", lw=lw)\n",
    "plt.legend(loc=\"best\")\n",
    "plt.savefig(\"MLP_CENSUS_MAX_ITER.pdf\")\n",
    "plt.show()"
   ]
  },
  {
   "cell_type": "code",
   "execution_count": null,
   "id": "minor-economics",
   "metadata": {},
   "outputs": [],
   "source": []
  },
  {
   "cell_type": "code",
   "execution_count": null,
   "id": "labeled-rainbow",
   "metadata": {},
   "outputs": [],
   "source": [
    "# cv = ShuffleSplit(n_splits=10, test_size=0.1, random_state=0)\n",
    "cv = RepeatedStratifiedKFold(n_splits=5, n_repeats=1, random_state=45)\n",
    "train_scores, valid_scores = validation_curve(census_pipeline_rbf,\n",
    "                                              X_c_train,\n",
    "                                              y_c_train, \n",
    "                                              param_name =  \"model__gamma\",\n",
    "                                            param_range = np.linspace(1e-3,1.,5),\n",
    "                                            cv=cv)\n",
    "\n",
    "param_range =  np.linspace(1e-3,1.,5)\n",
    "\n",
    "train_scores_mean =  np.mean(train_scores, axis=1)\n",
    "train_scores_std = np.std(train_scores, axis=1)\n",
    "test_scores_mean = np.mean(valid_scores, axis=1)\n",
    "test_scores_std = np.std(valid_scores, axis=1)\n",
    "\n",
    "\n",
    "plt.title(\"Complexity Curve SVM \")\n",
    "plt.xlabel(\"Gamma Values\")\n",
    "plt.ylabel(\"Score\")\n",
    "plt.ylim(0.0, 1.1)\n",
    "lw = 2\n",
    "# semilogx\n",
    "plt.semilogx(param_range, train_scores_mean, label=\"Training score\",\n",
    "             color=\"darkorange\", lw=lw)\n",
    "\n",
    "plt.fill_between(param_range, train_scores_mean - train_scores_std,\n",
    "                 train_scores_mean + train_scores_std, alpha=0.2,\n",
    "                 color=\"darkorange\", lw=lw)\n",
    "plt.semilogx(param_range, test_scores_mean, label=\"Cross-validation score\",\n",
    "             color=\"navy\", lw=lw)\n",
    "plt.fill_between(param_range, test_scores_mean - test_scores_std,\n",
    "                 test_scores_mean + test_scores_std, alpha=0.2,\n",
    "                 color=\"navy\", lw=lw)\n",
    "plt.legend(loc=\"best\")\n",
    "\n",
    "\n",
    "plt.savefig(\"complexity_svc_gamma.pdf\")\n",
    "\n",
    "# plt.show()"
   ]
  },
  {
   "cell_type": "code",
   "execution_count": null,
   "id": "bottom-sample",
   "metadata": {},
   "outputs": [],
   "source": []
  },
  {
   "cell_type": "code",
   "execution_count": 20,
   "id": "handled-forty",
   "metadata": {},
   "outputs": [
    {
     "name": "stdout",
     "output_type": "stream",
     "text": [
      "Best: 0.773440 usin g {'model__activation': 'relu', 'model__alpha': 0.42858571428571435, 'model__learning_rate': 'invscaling', 'model__max_iter': 19, 'model__solver': 'adam'}\n"
     ]
    }
   ],
   "source": [
    "# Set the parameters by cross-validation\n",
    "\n",
    "\n",
    "\n",
    "tuned_parameters = {'model__activation': [\"logistic\",\"tanh\",\"relu\"], \n",
    "                    'model__alpha': np.linspace(0.0001,.5,15),\n",
    "                    \"model__solver\" : [\"sgd\",\"adam\",\"lbfgs\"],\n",
    "                    \"model__learning_rate\": [\"constant\", \"invscaling\"] ,\n",
    "                     \"model__max_iter\" : [ i for i in range(1,20,2)]}\n",
    "                    \n",
    "\n",
    "\n",
    "# define the evaluation procedure\n",
    "cv = RepeatedStratifiedKFold(n_splits=5, n_repeats=1, random_state=45)\n",
    "# define the grid search procedure\n",
    "grid_search = GridSearchCV(estimator=get_census_pipeline(1), param_grid=tuned_parameters, \n",
    "                           n_jobs=-1, cv=cv, \n",
    "                           scoring='average_precision')\n",
    "# execute the grid search\n",
    "grid_result_l = grid_search.fit(X_c_train, y_c_train)\n",
    "# summarize the best score and configuration\n",
    "print(\"Best: %f usin g %s\" % (grid_result_l.best_score_, grid_result_l.best_params_))\n",
    "# summarize all scores that were evaluated\n",
    "means = grid_result_l.cv_results_['mean_test_score']\n",
    "stds = grid_result_l.cv_results_['std_test_score']\n",
    "params = grid_result_l.cv_results_['params']\n",
    "# Best: 0.773440 usin g {'model__activation': 'relu', 'model__alpha': 0.42858571428571435, 'model__learning_rate': 'invscaling', 'model__max_iter': 19, 'model__solver': 'adam'}"
   ]
  },
  {
   "cell_type": "code",
   "execution_count": null,
   "id": "enclosed-birmingham",
   "metadata": {},
   "outputs": [],
   "source": []
  },
  {
   "cell_type": "code",
   "execution_count": 31,
   "id": "spoken-screening",
   "metadata": {},
   "outputs": [],
   "source": [
    "def get_census_pipeline_final(iter_=19):\n",
    "    liver_steps = [('encoding', OneHotEncoder(cols=categorical_columns)),\n",
    "         ('imputer',SimpleImputer(missing_values=np.NaN, strategy='most_frequent')),\n",
    "         ('scaler', StandardScaler()),\n",
    "                   (\"model\",   MLPClassifier( max_iter=iter_ ,\n",
    "                                             solver =\"adam\",\n",
    "                                             activation=\"relu\",\n",
    "                                             alpha=0.42858571428571435,\n",
    "                                             learning_rate=\"invscaling\",\n",
    "                                             random_state = 12, \n",
    "                                             ))]\n",
    "    return Pipeline(steps=liver_steps)"
   ]
  },
  {
   "cell_type": "code",
   "execution_count": null,
   "id": "cellular-graham",
   "metadata": {},
   "outputs": [],
   "source": [
    "params = grid_result.cv_results_['params']"
   ]
  },
  {
   "cell_type": "code",
   "execution_count": 27,
   "id": "compact-tobacco",
   "metadata": {},
   "outputs": [
    {
     "data": {
      "text/plain": [
       "<module 'matplotlib.pyplot' from '/home/flufylobster/anaconda3/envs/ML39/lib/python3.9/site-packages/matplotlib/pyplot.py'>"
      ]
     },
     "execution_count": 27,
     "metadata": {},
     "output_type": "execute_result"
    },
    {
     "data": {
      "image/png": "[encoded data removed]",
      "text/plain": [
       "<Figure size 432x288 with 1 Axes>"
      ]
     },
     "metadata": {
      "needs_background": "light"
     },
     "output_type": "display_data"
    }
   ],
   "source": [
    "my_learn_curve(title=\" Support Vector Machine\", \n",
    "               estimator=get_census_pipeline_final(), \n",
    "               cv=stratified_kfold,\n",
    "               X=X_c_train, \n",
    "               y=y_c_train,  \n",
    "               label_suffix=\"rbf\", \n",
    "               color_=[\"orange\",\"blue\"],\n",
    "               shape = 'x-'  )\n"
   ]
  },
  {
   "cell_type": "code",
   "execution_count": 30,
   "id": "affecting-accommodation",
   "metadata": {},
   "outputs": [],
   "source": [
    "def get_census_pipeline_base():\n",
    "    liver_steps = [('encoding', OneHotEncoder(cols=categorical_columns)),\n",
    "         ('imputer',SimpleImputer(missing_values=np.NaN, strategy='most_frequent')),\n",
    "         ('scaler', StandardScaler()),\n",
    "                   (\"model\",   MLPClassifier(solver = \"sgd\",\n",
    "                                             random_state = 12, \n",
    "                                             ))]\n",
    "    return Pipeline(steps=liver_steps)"
   ]
  },
  {
   "cell_type": "code",
   "execution_count": null,
   "id": "generic-passage",
   "metadata": {},
   "outputs": [],
   "source": [
    "print(grid_result.best_estimator_.get_params())\n",
    "print(classification_report(y_c_train, grid_result.best_estimator_.predict(X_c_train) ))\n",
    "print(classification_report(y_c_test, grid_result.best_estimator_.predict(X_c_test) ))"
   ]
  },
  {
   "cell_type": "code",
   "execution_count": 29,
   "id": "bored-jungle",
   "metadata": {},
   "outputs": [
    {
     "data": {
      "text/plain": [
       "<sklearn.metrics._plot.confusion_matrix.ConfusionMatrixDisplay at 0x7ff6956fc310>"
      ]
     },
     "execution_count": 29,
     "metadata": {},
     "output_type": "execute_result"
    },
    {
     "data": {
      "image/png": "[encoded data removed]",
      "text/plain": [
       "<Figure size 432x288 with 2 Axes>"
      ]
     },
     "metadata": {
      "needs_background": "light"
     },
     "output_type": "display_data"
    }
   ],
   "source": [
    "plot_confusion_matrix(estimator=  get_census_pipeline_final().fit(X_c_train, y_c_train),\n",
    "                      X=X_c_train,\n",
    "                      y_true= y_c_train  , \n",
    "                      cmap=plt.cm.Blues,\n",
    "                       normalize=\"true\",\n",
    "                      display_labels = [\"<$50k\" ,\"> $50k\"]\n",
    "                        )"
   ]
  },
  {
   "cell_type": "code",
   "execution_count": 35,
   "id": "thousand-hypothetical",
   "metadata": {},
   "outputs": [],
   "source": [
    "base_c?"
   ]
  },
  {
   "cell_type": "code",
   "execution_count": 38,
   "id": "governing-making",
   "metadata": {},
   "outputs": [
    {
     "name": "stdout",
     "output_type": "stream",
     "text": [
      "0.8145254254606573\n",
      "0.8096232693462557\n",
      "0.7755352405370302\n"
     ]
    }
   ],
   "source": [
    "base_c = get_census_pipeline_base()\n",
    "print(average_precision_score(y_c_train, base_c.fit(X_c_train,y_c_train).predict_proba(X_c_train)[:,1]))\n",
    "print(average_precision_score(y_c_train,get_census_pipeline_final().fit(X_c_train, y_c_train).predict_proba(X_c_train)[:,1]))\n",
    "print(average_precision_score(y_c_test,get_census_pipeline_final().fit(X_c_train, y_c_train).predict_proba(X_c_test)[:,1]))"
   ]
  },
  {
   "cell_type": "code",
   "execution_count": 35,
   "id": "spectacular-trading",
   "metadata": {},
   "outputs": [
    {
     "name": "stdout",
     "output_type": "stream",
     "text": [
      "              precision    recall  f1-score   support\n",
      "\n",
      "           0       0.90      0.93      0.91     19758\n",
      "           1       0.76      0.66      0.71      6271\n",
      "\n",
      "    accuracy                           0.87     26029\n",
      "   macro avg       0.83      0.80      0.81     26029\n",
      "weighted avg       0.86      0.87      0.86     26029\n",
      "\n",
      "              precision    recall  f1-score   support\n",
      "\n",
      "           0       0.89      0.92      0.91      4940\n",
      "           1       0.72      0.63      0.68      1568\n",
      "\n",
      "    accuracy                           0.85      6508\n",
      "   macro avg       0.81      0.78      0.79      6508\n",
      "weighted avg       0.85      0.85      0.85      6508\n",
      "\n"
     ]
    }
   ],
   "source": [
    "#format test data\n",
    "X_c_test= test_data.drop('income', axis=1)\n",
    "y_c_test= test_data['income']\n",
    "print(classification_report(y_c_train, get_census_pipeline_final().fit(X_c_train, y_c_train).predict(X_c_train) ))\n",
    "print(classification_report(y_c_test, get_census_pipeline_final().fit(X_c_train, y_c_train).predict(X_c_test) ))"
   ]
  },
  {
   "cell_type": "code",
   "execution_count": 63,
   "id": "forward-memorabilia",
   "metadata": {},
   "outputs": [
    {
     "data": {
      "image/png": "[encoded data removed]",
      "text/plain": [
       "<Figure size 432x288 with 1 Axes>"
      ]
     },
     "metadata": {
      "needs_background": "light"
     },
     "output_type": "display_data"
    }
   ],
   "source": [
    "# stratified_kfold = StratifiedKFold(n_splits = 5, random_state=42, shuffle=True)\n",
    "# val_train_scores = []\n",
    "# for i in range (1,30,2):\n",
    "#     scores = cross_validate(get_census_pipeline_final(i), X_c_train, y_c_train, cv=stratified_kfold,\n",
    "#                    scoring=('accuracy'),\n",
    "#                     return_train_score=True)\n",
    "#     val = 1. - scores['test_score'].mean()\n",
    "#     training = 1. - scores['train_score'].mean()\n",
    "#     epoch = i\n",
    "#     val_train_scores.append([training,val,epoch])\n",
    "    \n",
    "pd_val = pd.DataFrame(val_train_scores, columns=[\"Training\", \"Cross_Validation\",\"epoch\"])\n",
    "val_plot =pd_val.plot(y=[\"Training\", \"Cross_Validation\"],x=\"epoch\", title=\"MLP Learning Curve Adam\" )\n",
    "plt.grid()\n",
    "plt.ylim(0.0, 1.01)\n",
    "plt.ylabel('Error')\n",
    "plt.xlabel('Epoch')\n",
    "plt.savefig(\"MLP_final_CENSUS_LEARNING_CURVE_adam.pdf\")"
   ]
  },
  {
   "cell_type": "code",
   "execution_count": null,
   "id": "eleven-nepal",
   "metadata": {},
   "outputs": [],
   "source": []
  }
 ],
 "metadata": {
  "kernelspec": {
   "display_name": "Python 3",
   "language": "python",
   "name": "python3"
  },
  "language_info": {
   "codemirror_mode": {
    "name": "ipython",
    "version": 3
   },
   "file_extension": ".py",
   "mimetype": "text/x-python",
   "name": "python",
   "nbconvert_exporter": "python",
   "pygments_lexer": "ipython3",
   "version": "3.9.1"
  }
 },
 "nbformat": 4,
 "nbformat_minor": 5
}
