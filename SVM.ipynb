{
 "cells": [
  {
   "cell_type": "markdown",
   "id": "hawaiian-audio",
   "metadata": {},
   "source": [
    "## SVM"
   ]
  },
  {
   "cell_type": "code",
   "execution_count": 1,
   "id": "great-duplicate",
   "metadata": {},
   "outputs": [],
   "source": [
    "import pandas as pd\n",
    "import sklearn\n",
    "from sklearn.tree import DecisionTreeClassifier\n",
    "from sklearn.metrics import accuracy_score\n",
    "from sklearn.ensemble import AdaBoostClassifier\n",
    "from sklearn.model_selection import train_test_split, StratifiedKFold, cross_val_score, learning_curve, ShuffleSplit, validation_curve\n",
    "from sklearn.metrics import plot_confusion_matrix\n",
    "import numpy as np\n",
    "import numpy as np\n",
    "import matplotlib.pyplot as plt\n",
    "from sklearn.naive_bayes import GaussianNB\n",
    "from sklearn.svm import SVC\n",
    "from imblearn.pipeline import Pipeline\n",
    "from category_encoders.one_hot import OneHotEncoder\n",
    "from sklearn.impute import SimpleImputer\n",
    "from imblearn.over_sampling import RandomOverSampler, SMOTE\n",
    "from mlxtend.evaluate import bias_variance_decomp\n",
    "from mlxtend.plotting import plot_decision_regions\n",
    "from sklearn.metrics import classification_report\n",
    "from imblearn.under_sampling import RandomUnderSampler\n",
    "\n",
    "from sklearn.datasets import make_classification\n",
    "from sklearn.model_selection import RepeatedStratifiedKFold\n",
    "from sklearn.model_selection import GridSearchCV\n",
    "from sklearn.ensemble import AdaBoostClassifier\n",
    "from sklearn import tree\n",
    "from sklearn.preprocessing import StandardScaler\n",
    "from sklearn.neural_network import MLPClassifier\n",
    "from sklearn.metrics import average_precision_score"
   ]
  },
  {
   "cell_type": "code",
   "execution_count": 2,
   "id": "serious-airplane",
   "metadata": {},
   "outputs": [],
   "source": [
    "def my_learn_curve(title=\"some title\", \n",
    "                   estimator=None, \n",
    "                   cv = None ,\n",
    "                   X=None,\n",
    "                   y=None,\n",
    "                   label_suffix =  None,\n",
    "                   color_= [],\n",
    "                   shape='o-'):\n",
    "    plt.title(title)\n",
    "    plt.ylim(0.0, 1.01)\n",
    "    plt.xlabel(\"Training examples\")\n",
    "    plt.ylabel(\"Score\")\n",
    "\n",
    "    train_sizes, train_scores, test_scores, fit_times, _ = \\\n",
    "        learning_curve(estimator, X, y, cv=cv, n_jobs=4,\n",
    "                       train_sizes=np.linspace(.1, 1.0, 10),\n",
    "                       return_times=True)\n",
    "    train_scores_mean =  1.0 - np.mean(train_scores, axis=1)\n",
    "    train_scores_std = np.std(train_scores, axis=1)\n",
    "    test_scores_mean =  1.0 - np.mean(test_scores, axis=1)\n",
    "    test_scores_std = np.std(test_scores, axis=1)\n",
    "    fit_times_mean = np.mean(fit_times, axis=1)\n",
    "    fit_times_std = np.std(fit_times, axis=1)\n",
    "\n",
    "\n",
    "    # Plot learning curve\n",
    "    plt.grid()\n",
    "    plt.fill_between(train_sizes,  train_scores_mean - train_scores_std,\n",
    "                         train_scores_mean + train_scores_std, alpha=0.1,\n",
    "                         color=\"r\")\n",
    "    plt.fill_between(train_sizes,  test_scores_mean - test_scores_std,\n",
    "                         test_scores_mean + test_scores_std, alpha=0.1,\n",
    "                         color=\"g\")\n",
    "    plt.plot(train_sizes, train_scores_mean, shape, color=color_[0],\n",
    "                 label=\"Training Error - {}\".format(label_suffix))\n",
    "    plt.plot(train_sizes, test_scores_mean,shape, color=color_[1],\n",
    "                 label=\"Cross-validation Error - {}\".format(label_suffix))\n",
    "    plt.legend(loc=\"best\")\n",
    "    plt.ylabel(\"Error\")\n",
    "    return plt"
   ]
  },
  {
   "cell_type": "code",
   "execution_count": 28,
   "id": "sudden-convert",
   "metadata": {},
   "outputs": [],
   "source": [
    "SVC?"
   ]
  },
  {
   "cell_type": "code",
   "execution_count": 3,
   "id": "colored-marketing",
   "metadata": {},
   "outputs": [],
   "source": [
    "parent_dir = '/mnt/c/users/17752/Documents/GeorgiaTech/machine_learning'"
   ]
  },
  {
   "cell_type": "markdown",
   "id": "popular-pasta",
   "metadata": {},
   "source": [
    "# Liver Data "
   ]
  },
  {
   "cell_type": "code",
   "execution_count": 30,
   "id": "severe-majority",
   "metadata": {},
   "outputs": [],
   "source": [
    "cross_val_score?"
   ]
  },
  {
   "cell_type": "code",
   "execution_count": 47,
   "id": "extended-scale",
   "metadata": {},
   "outputs": [],
   "source": [
    "parent_dir = '/mnt/c/users/17752/Documents/GeorgiaTech/machine_learning'\n",
    "liver_df = pd.read_csv(f\"{parent_dir}/data/liver.csv\")\n",
    "liver_df = pd.read_csv(f\"{parent_dir}/data/liver.csv\")\n",
    "liver_df.drop_duplicates(inplace=True)\n",
    "impute_Albumin_and_Globulin_Ratio = liver_df[~liver_df.Albumin_and_Globulin_Ratio.isna()].Albumin_and_Globulin_Ratio.mean()\n",
    "filt_ =  liver_df.Albumin_and_Globulin_Ratio.isna()\n",
    "liver_df.loc[filt_, \"Albumin_and_Globulin_Ratio\" ]= impute_Albumin_and_Globulin_Ratio\n",
    "assert sum(liver_df.Albumin_and_Globulin_Ratio.isna()) == 0 \n",
    "# format response \n",
    "liver_df.loc[(liver_df.Dataset ==2), \"Dataset\" ] = -1\n",
    "liver_df.head(10)\n",
    "liver_df.loc[:,\"Gender\"] = pd.get_dummies(liver_df.Gender, prefix='gender').drop(\"gender_Male\", axis =1  ).gender_Female\n",
    "X = liver_df.loc[:, \"Age\":\"Albumin_and_Globulin_Ratio\"]\n",
    "y = liver_df[\"Dataset\"]\n",
    "X_train, X_test, y_train, y_test = train_test_split( X, y, test_size=0.2, random_state=62)\n",
    "\n",
    "#('over', SMOTE(sampling_strategy=\"minority\")\n",
    "#inital shot \n",
    "liver_steps = [[('scaler', StandardScaler()),\n",
    "               (\"model\",  SVC(gamma='scale',kernel='rbf', cache_size=10000))],\n",
    "               [('scaler', StandardScaler()),\n",
    "               (\"model\",  SVC(gamma='scale',kernel='linear', cache_size=10000, probability=True)) ]]\n",
    "liver_pipeline_linear = Pipeline(steps=liver_steps[1])\n",
    "liver_pipeline_rbf =  Pipeline(steps=liver_steps[0])\n",
    "stratified_kfold = StratifiedKFold(n_splits = 10, random_state=42, shuffle=True)\n",
    "scores = cross_val_score(liver_pipeline_linear, X_train, y_train, scoring='recall', cv=stratified_kfold, n_jobs=3)\n"
   ]
  },
  {
   "cell_type": "code",
   "execution_count": null,
   "id": "familiar-dominant",
   "metadata": {},
   "outputs": [],
   "source": []
  },
  {
   "cell_type": "code",
   "execution_count": 8,
   "id": "arabic-given",
   "metadata": {},
   "outputs": [
    {
     "data": {
      "text/plain": [
       "4"
      ]
     },
     "execution_count": 8,
     "metadata": {},
     "output_type": "execute_result"
    }
   ],
   "source": [
    "2+2"
   ]
  },
  {
   "cell_type": "markdown",
   "id": "labeled-strain",
   "metadata": {},
   "source": [
    "### Base learning curve "
   ]
  },
  {
   "cell_type": "code",
   "execution_count": 31,
   "id": "obvious-cutting",
   "metadata": {},
   "outputs": [
    {
     "data": {
      "image/png": "[encoded data removed]",
      "text/plain": [
       "<Figure size 432x288 with 1 Axes>"
      ]
     },
     "metadata": {
      "needs_background": "light"
     },
     "output_type": "display_data"
    }
   ],
   "source": [
    "my_learn_curve(title=\" Support Vector Machine - Liver\", \n",
    "               estimator=liver_pipeline_linear, \n",
    "               cv=stratified_kfold, \n",
    "               X=X_train,\n",
    "               y=y_train,\n",
    "               label_suffix=\"linear\", \n",
    "               color_=[\"orange\",\"blue\"],\n",
    "               shape = 'o-'  )\n",
    "\n",
    "# my_learn_curve(title=\" Support Vector Machine\", \n",
    "#                estimator=liver_pipeline_rbf, \n",
    "#                cv=stratified_kfold,\n",
    "#                X=X_train,\n",
    "#                y=y_train ,\n",
    "#                label_suffix=\"rbf\", \n",
    "#                color_=[\"orange\",\"blue\"], shape = 'x-' )\n",
    "\n",
    "\n",
    "plt.savefig(\"SVM_LIVER_BASE_learning_curve.pdf\")\n",
    "\n"
   ]
  },
  {
   "cell_type": "markdown",
   "id": "disciplinary-apache",
   "metadata": {},
   "source": [
    "## average_precision_score"
   ]
  },
  {
   "cell_type": "code",
   "execution_count": null,
   "id": "olive-cliff",
   "metadata": {},
   "outputs": [],
   "source": []
  },
  {
   "cell_type": "code",
   "execution_count": 25,
   "id": "aquatic-bahamas",
   "metadata": {},
   "outputs": [
    {
     "name": "stdout",
     "output_type": "stream",
     "text": [
      "0.6973684210526315\n",
      "0.7719298245614035\n"
     ]
    }
   ],
   "source": [
    "print(average_precision_score(y_train, liver_pipeline_linear.fit(X_train,y_train).predict(X_train)))\n",
    "print(average_precision_score( y_test, liver_pipeline_linear.fit(X_train,y_train).predict(X_test)))"
   ]
  },
  {
   "cell_type": "markdown",
   "id": "thousand-memorabilia",
   "metadata": {},
   "source": [
    "###  Base Metrics "
   ]
  },
  {
   "cell_type": "code",
   "execution_count": 15,
   "id": "direct-priority",
   "metadata": {},
   "outputs": [
    {
     "name": "stdout",
     "output_type": "stream",
     "text": [
      "              precision    recall  f1-score   support\n",
      "\n",
      "          -1       0.00      0.00      0.00       138\n",
      "           1       0.70      1.00      0.82       318\n",
      "\n",
      "    accuracy                           0.70       456\n",
      "   macro avg       0.35      0.50      0.41       456\n",
      "weighted avg       0.49      0.70      0.57       456\n",
      "\n",
      "              precision    recall  f1-score   support\n",
      "\n",
      "          -1       0.00      0.00      0.00        26\n",
      "           1       0.77      1.00      0.87        88\n",
      "\n",
      "    accuracy                           0.77       114\n",
      "   macro avg       0.39      0.50      0.44       114\n",
      "weighted avg       0.60      0.77      0.67       114\n",
      "\n"
     ]
    },
    {
     "name": "stderr",
     "output_type": "stream",
     "text": [
      "/home/flufylobster/anaconda3/envs/ML39/lib/python3.9/site-packages/sklearn/metrics/_classification.py:1221: UndefinedMetricWarning: Precision and F-score are ill-defined and being set to 0.0 in labels with no predicted samples. Use `zero_division` parameter to control this behavior.\n",
      "  _warn_prf(average, modifier, msg_start, len(result))\n",
      "/home/flufylobster/anaconda3/envs/ML39/lib/python3.9/site-packages/sklearn/metrics/_classification.py:1221: UndefinedMetricWarning: Precision and F-score are ill-defined and being set to 0.0 in labels with no predicted samples. Use `zero_division` parameter to control this behavior.\n",
      "  _warn_prf(average, modifier, msg_start, len(result))\n"
     ]
    }
   ],
   "source": [
    "# print(grid_result_l.best_estimator_.get_params())\n",
    "print(classification_report(y_train, liver_pipeline_linear.fit(X_train,y_train).predict(X_train) ))\n",
    "print(classification_report(y_test, liver_pipeline_linear.fit(X_train,y_train).predict(X_test) ))"
   ]
  },
  {
   "cell_type": "code",
   "execution_count": 28,
   "id": "commercial-sponsorship",
   "metadata": {},
   "outputs": [
    {
     "data": {
      "image/png": "[encoded data removed]",
      "text/plain": [
       "<Figure size 432x288 with 2 Axes>"
      ]
     },
     "metadata": {
      "needs_background": "light"
     },
     "output_type": "display_data"
    }
   ],
   "source": [
    "plot_confusion_matrix(estimator=  liver_pipeline_linear.fit(X_train,y_train), X=X_train, y_true= y_train  , \n",
    "                      cmap=plt.cm.Blues,\n",
    "                       normalize=\"true\",\n",
    "                      display_labels = [\"Not Patient\" ,\"Patient\"]\n",
    "                        )\n",
    "\n",
    "plt.title(\" SVM - Confusion Matrix Liver\")\n",
    "\n",
    "plt.savefig(\"SVM_LIVER_BASE_CONFUSION_MAT.PDF\")\n",
    "### Overfit "
   ]
  },
  {
   "cell_type": "markdown",
   "id": "temporal-senate",
   "metadata": {},
   "source": [
    "## Validation/ complexity  Curve"
   ]
  },
  {
   "cell_type": "code",
   "execution_count": 34,
   "id": "municipal-sarah",
   "metadata": {},
   "outputs": [],
   "source": [
    "import warnings\n",
    "warnings.filterwarnings(\"ignore\")"
   ]
  },
  {
   "cell_type": "code",
   "execution_count": 33,
   "id": "declared-fetish",
   "metadata": {},
   "outputs": [
    {
     "data": {
      "image/png": "[encoded data removed]",
      "text/plain": [
       "<Figure size 432x288 with 1 Axes>"
      ]
     },
     "metadata": {
      "needs_background": "light"
     },
     "output_type": "display_data"
    }
   ],
   "source": [
    "# cv = ShuffleSplit(n_splits=10, test_size=0.1, random_state=0)\n",
    "cv = RepeatedStratifiedKFold(n_splits=10, n_repeats=1, random_state=45)\n",
    "train_scores, valid_scores = validation_curve(liver_pipeline_rbf,\n",
    "                                              X_train,\n",
    "                                              y_train, \n",
    "                                              param_name =  \"model__C\",\n",
    "                                            param_range = np.linspace(0.1,5,10),\n",
    "                                            cv=cv)\n",
    "\n",
    "param_range =  np.linspace(0.1,5,10)\n",
    "\n",
    "train_scores_mean =  np.mean(train_scores, axis=1)\n",
    "train_scores_std = np.std(train_scores, axis=1)\n",
    "test_scores_mean = np.mean(valid_scores, axis=1)\n",
    "test_scores_std = np.std(valid_scores, axis=1)\n",
    "\n",
    "plt.title(\"Validation Curve SVM - Liver\")\n",
    "plt.xlabel(\"C\")\n",
    "plt.ylabel(\"Score\")\n",
    "plt.ylim(0.0, 1.1)\n",
    "lw = 2\n",
    "# semilogx\n",
    "plt.plot(param_range, train_scores_mean, label=\"Training score\",\n",
    "             color=\"darkorange\", lw=lw)\n",
    "\n",
    "plt.fill_between(param_range, train_scores_mean - train_scores_std,\n",
    "                 train_scores_mean + train_scores_std, alpha=0.2,\n",
    "                 color=\"darkorange\", lw=lw)\n",
    "plt.plot(param_range, test_scores_mean, label=\"Cross-validation score\",\n",
    "             color=\"navy\", lw=lw)\n",
    "plt.fill_between(param_range, test_scores_mean - test_scores_std,\n",
    "                 test_scores_mean + test_scores_std, alpha=0.2,\n",
    "                 color=\"navy\", lw=lw)\n",
    "plt.legend(loc=\"best\")\n",
    "\n",
    "\n",
    "plt.savefig(\"SVM_complexity_liver_C.pdf\")\n",
    "\n",
    "plt.show()"
   ]
  },
  {
   "cell_type": "code",
   "execution_count": 52,
   "id": "surface-validity",
   "metadata": {},
   "outputs": [
    {
     "data": {
      "image/png": "[encoded data removed]",
      "text/plain": [
       "<Figure size 432x288 with 1 Axes>"
      ]
     },
     "metadata": {
      "needs_background": "light"
     },
     "output_type": "display_data"
    }
   ],
   "source": [
    "# cv = ShuffleSplit(n_splits=10, test_size=0.1, random_state=0)\n",
    "cv = RepeatedStratifiedKFold(n_splits=10, n_repeats=2, random_state=45)\n",
    "train_scores, valid_scores = validation_curve(liver_pipeline_rbf,\n",
    "                                              X_train,\n",
    "                                              y_train, \n",
    "                                              param_name =  \"model__gamma\",\n",
    "                                            param_range = np.linspace(1e-2,2.,10),\n",
    "                                            cv=cv)\n",
    "\n",
    "param_range =  np.linspace(1e-2,2.,10)\n",
    "\n",
    "train_scores_mean =  np.mean(train_scores, axis=1)\n",
    "train_scores_std = np.std(train_scores, axis=1)\n",
    "test_scores_mean = np.mean(valid_scores, axis=1)\n",
    "test_scores_std = np.std(valid_scores, axis=1)\n",
    "\n",
    "plt.title(\"Validation Curve SVM - Liver\")\n",
    "plt.xlabel(\"Gamma\")\n",
    "plt.ylabel(\"Score\")\n",
    "plt.ylim(0.0, 1.1)\n",
    "lw = 2\n",
    "# semilogx\n",
    "plt.semilogx(param_range, train_scores_mean, label=\"Training score\",\n",
    "             color=\"darkorange\", lw=lw)\n",
    "\n",
    "plt.fill_between(param_range, train_scores_mean - train_scores_std,\n",
    "                 train_scores_mean + train_scores_std, alpha=0.2,\n",
    "                 color=\"darkorange\", lw=lw)\n",
    "plt.semilogx(param_range, test_scores_mean, label=\"Cross-validation score\",\n",
    "             color=\"navy\", lw=lw)\n",
    "plt.fill_between(param_range, test_scores_mean - test_scores_std,\n",
    "                 test_scores_mean + test_scores_std, alpha=0.2,\n",
    "                 color=\"navy\", lw=lw)\n",
    "plt.legend(loc=\"best\")\n",
    "plt.savefig(\"SVM_complexity_liver_gamma.pdf\")\n",
    "plt.show()"
   ]
  },
  {
   "cell_type": "markdown",
   "id": "pointed-marsh",
   "metadata": {},
   "source": [
    "## Grid Search Liver "
   ]
  },
  {
   "cell_type": "code",
   "execution_count": 51,
   "id": "documented-avatar",
   "metadata": {},
   "outputs": [
    {
     "name": "stdout",
     "output_type": "stream",
     "text": [
      "Best: 0.885576 usin g {'model__C': 1, 'model__class_weight': 'balanced', 'model__kernel': 'linear', 'model__probability': True}\n"
     ]
    }
   ],
   "source": [
    "# Set the parameters by cross-validation\n",
    "\n",
    "liver_steps =    [('scaler', StandardScaler()),(\"model\",  SVC( cache_size=10000, probability=True))]\n",
    "\n",
    "liver_pipeline= Pipeline(steps=liver_steps)\n",
    "\n",
    "tuned_parameters = [{'model__kernel': ['rbf'], 'model__gamma': np.linspace(1e-2,.1,5),\n",
    "                     'model__C': [ 1,2,3 ], \"model__class_weight\":[\"balanced\", None]},\n",
    "                    {'model__kernel': ['linear'], 'model__C': [ 1,2,3 ], \"model__class_weight\":[\"balanced\", None], \n",
    "                    \"model__probability\":[True]}]\n",
    "\n",
    "\n",
    "# define the evaluation procedure\n",
    "cv = RepeatedStratifiedKFold(n_splits=5, n_repeats=1, random_state=45)\n",
    "# define the grid search procedure\n",
    "grid_search = GridSearchCV(estimator=liver_pipeline, param_grid=tuned_parameters, \n",
    "                           n_jobs=-1, cv=cv, \n",
    "                           scoring='average_precision')\n",
    "# execute the grid search\n",
    "grid_result_l = grid_search.fit(X_train, y_train)\n",
    "# summarize the best score and configuration\n",
    "print(\"Best: %f usin g %s\" % (grid_result_l.best_score_, grid_result_l.best_params_))\n",
    "# summarize all scores that were evaluated\n",
    "means = grid_result_l.cv_results_['mean_test_score']\n",
    "stds = grid_result_l.cv_results_['std_test_score']\n",
    "params = grid_result_l.cv_results_['params']"
   ]
  },
  {
   "cell_type": "code",
   "execution_count": 52,
   "id": "unexpected-calibration",
   "metadata": {},
   "outputs": [
    {
     "name": "stdout",
     "output_type": "stream",
     "text": [
      "0.9040576395547891\n"
     ]
    }
   ],
   "source": [
    "print(average_precision_score(y_train, liver_pipeline.fit(X_train, y_train).predict_proba(X_train)[:,1]))"
   ]
  },
  {
   "cell_type": "code",
   "execution_count": 44,
   "id": "religious-attraction",
   "metadata": {},
   "outputs": [
    {
     "name": "stdout",
     "output_type": "stream",
     "text": [
      "0.8945287189989907\n"
     ]
    }
   ],
   "source": [
    "print(average_precision_score(y_train, grid_result_l.predict_proba(X_train)[:,1]))"
   ]
  },
  {
   "cell_type": "code",
   "execution_count": 45,
   "id": "multiple-restriction",
   "metadata": {},
   "outputs": [
    {
     "name": "stdout",
     "output_type": "stream",
     "text": [
      "0.9268875935569446\n"
     ]
    }
   ],
   "source": [
    "print(average_precision_score(y_test, grid_result_l.predict_proba(X_test)[:,1]))"
   ]
  },
  {
   "cell_type": "markdown",
   "id": "located-fourth",
   "metadata": {},
   "source": [
    "## Final learning curve liver svm"
   ]
  },
  {
   "cell_type": "code",
   "execution_count": 76,
   "id": "employed-blanket",
   "metadata": {},
   "outputs": [],
   "source": [
    "S"
   ]
  },
  {
   "cell_type": "code",
   "execution_count": 7,
   "id": "southern-genre",
   "metadata": {},
   "outputs": [],
   "source": [
    "liver_steps_f =    [('scaler', StandardScaler()),(\"model\", \n",
    "                                                SVC(C=1, cache_size=10000, class_weight='balanced', kernel='rbf', gamma=0.039 ),) ]\n",
    "\n",
    "liver_pipeline_f= Pipeline(steps=liver_steps_f)"
   ]
  },
  {
   "cell_type": "code",
   "execution_count": 9,
   "id": "adjustable-future",
   "metadata": {},
   "outputs": [
    {
     "data": {
      "image/png": "[encoded data removed]",
      "text/plain": [
       "<Figure size 432x288 with 1 Axes>"
      ]
     },
     "metadata": {
      "needs_background": "light"
     },
     "output_type": "display_data"
    }
   ],
   "source": [
    "\n",
    "my_learn_curve(title=\" Support Vector Machine\", \n",
    "               estimator=liver_pipeline_f.fit(X_train,y_train), \n",
    "               cv=stratified_kfold, \n",
    "               X=X_train,\n",
    "               y=y_train,\n",
    "               label_suffix=\"Final SVM\", \n",
    "               color_=[\"orange\",\"blue\"],\n",
    "               shape = 'o-'  )\n",
    "\n",
    "# my_learn_curve(title=\" Support Vector Machine - Liver\", \n",
    "#                estimator=liver_pipeline_linear.fit(X_train,y_train), \n",
    "#                cv=stratified_kfold,\n",
    "#                X=X_train,\n",
    "#                y=y_train ,\n",
    "#                label_suffix=\"Base SVM\", \n",
    "#                color_=[\"orange\",\"blue\"], shape = 'x-' )\n",
    "\n",
    "plt.savefig(\"SVM_LIVER_FINAL_learning_curve.pdf\")"
   ]
  },
  {
   "cell_type": "markdown",
   "id": "substantial-penguin",
   "metadata": {},
   "source": [
    "# Metrics "
   ]
  },
  {
   "cell_type": "code",
   "execution_count": 73,
   "id": "aggressive-broadcasting",
   "metadata": {},
   "outputs": [
    {
     "name": "stdout",
     "output_type": "stream",
     "text": [
      "              precision    recall  f1-score   support\n",
      "\n",
      "          -1       0.44      0.92      0.60       138\n",
      "           1       0.94      0.50      0.65       318\n",
      "\n",
      "    accuracy                           0.63       456\n",
      "   macro avg       0.69      0.71      0.63       456\n",
      "weighted avg       0.79      0.63      0.64       456\n",
      "\n",
      "              precision    recall  f1-score   support\n",
      "\n",
      "          -1       0.35      0.96      0.52        26\n",
      "           1       0.98      0.48      0.64        88\n",
      "\n",
      "    accuracy                           0.59       114\n",
      "   macro avg       0.66      0.72      0.58       114\n",
      "weighted avg       0.83      0.59      0.61       114\n",
      "\n"
     ]
    }
   ],
   "source": [
    "# print(grid_result_l.best_estimator_.get_params())\n",
    "print(classification_report(y_train, liver_pipeline_f.fit(X_train,y_train).predict(X_train)))\n",
    "print(classification_report(y_test,  liver_pipeline_f.predict(X_test) ))"
   ]
  },
  {
   "cell_type": "code",
   "execution_count": 75,
   "id": "arabic-clearance",
   "metadata": {},
   "outputs": [
    {
     "data": {
      "text/plain": [
       "Text(0.5, 1.0, ' SVM - Confusion Matrix Liver')"
      ]
     },
     "execution_count": 75,
     "metadata": {},
     "output_type": "execute_result"
    },
    {
     "data": {
      "image/png": "[encoded data removed]",
      "text/plain": [
       "<Figure size 432x288 with 2 Axes>"
      ]
     },
     "metadata": {
      "needs_background": "light"
     },
     "output_type": "display_data"
    }
   ],
   "source": [
    "plot_confusion_matrix(estimator=   liver_pipeline_f.fit(X_train,y_train), X=X_train, y_true= y_train  , \n",
    "                      cmap=plt.cm.Blues,\n",
    "                       normalize=\"true\",\n",
    "                      display_labels = [\"Not Patient\" ,\"Patient\"]\n",
    "                        )\n",
    "\n",
    "plt.title(\" SVM - Confusion Matrix Liver\")\n",
    "\n",
    "# plt.savefig(\"SVM_LIVER_BASE_CONFUSION_MAT.PDF\")\n",
    "### Overfit "
   ]
  },
  {
   "cell_type": "code",
   "execution_count": 51,
   "id": "supported-warehouse",
   "metadata": {},
   "outputs": [
    {
     "name": "stdout",
     "output_type": "stream",
     "text": [
      "0.8088284273460264\n",
      "0.8748538011695906\n"
     ]
    }
   ],
   "source": [
    "print(average_precision_score(y_train, grid_result_l.predict(X_train)))\n",
    "print(average_precision_score( y_test,grid_result_l.predict(X_test)))"
   ]
  },
  {
   "cell_type": "markdown",
   "id": "common-upgrade",
   "metadata": {},
   "source": [
    "## Census Data "
   ]
  },
  {
   "cell_type": "code",
   "execution_count": 23,
   "id": "stock-concrete",
   "metadata": {},
   "outputs": [],
   "source": [
    "StandardScaler?"
   ]
  },
  {
   "cell_type": "code",
   "execution_count": 31,
   "id": "industrial-grammar",
   "metadata": {},
   "outputs": [
    {
     "name": "stdout",
     "output_type": "stream",
     "text": [
      "Train data shape is (26029, 15)\n",
      "Test data shape is (6508, 15)\n",
      "Gradient Boosting  AUC imputing missing values: 0.893\n"
     ]
    }
   ],
   "source": [
    "census_df = pd.read_csv(f\"{parent_dir}/data/adult.csv\")\n",
    "census_df.drop_duplicates(inplace=True)\n",
    "# # Deleting duplicates \n",
    "census_df.duplicated().sum()\n",
    "#Replacing '?' for nans\n",
    "census_df = census_df.replace('?', np.NaN)\n",
    "# Mapping already our target variable in  1 and 0.\n",
    "census_df.income = census_df.income.map({'<=50K':-1, '>50K':1})\n",
    "\n",
    "train_data, test_data = train_test_split(census_df,\n",
    "                                         test_size=0.2,\n",
    "                                         stratify=census_df['income'],\n",
    "                                         random_state=65)\n",
    "print('Train data shape is {}'.format(train_data.shape))\n",
    "print('Test data shape is {}'.format(test_data.shape))\n",
    "X_c_train = train_data.drop('income', axis=1)\n",
    "y_c_train = train_data['income']\n",
    "\n",
    "#Transforming categorical columns\n",
    "categorical_columns= X_c_train.select_dtypes(object).columns\n",
    "\n",
    "\n",
    "#         ('over', SMOTE()),\n",
    "# Using pipeline\n",
    "census_steps =[('encoding', OneHotEncoder(cols=categorical_columns)),\n",
    "         ('imputer',SimpleImputer(missing_values=np.NaN, strategy='most_frequent')),\n",
    "         ('scaler', StandardScaler()),\n",
    "          ('under', RandomUnderSampler(random_state=62)),\n",
    "        (\"model\",  SVC(gamma='scale', cache_size=10000))]\n",
    "\n",
    "census_pipeline = Pipeline(steps=census_steps)\n",
    "\n",
    "\n",
    "census_steps_rbf = [('encoding', OneHotEncoder(cols=categorical_columns)),\n",
    "         ('imputer',SimpleImputer(missing_values=np.NaN, strategy='most_frequent')),\n",
    "         ('scaler', StandardScaler()),\n",
    "        (\"model\",  SVC(gamma='scale',kernel='rbf', cache_size=10000))]\n",
    "census_pipeline_rbf = Pipeline(steps=census_steps_rbf)\n",
    "\n",
    "census_steps_linear = [('encoding', OneHotEncoder(cols=categorical_columns)),\n",
    "         ('imputer',SimpleImputer(missing_values=np.NaN, strategy='most_frequent')),\n",
    "         ('scaler', StandardScaler()),\n",
    "        (\"model\",  SVC(gamma='scale',kernel='linear', cache_size=10000))]\n",
    "\n",
    "census_pipeline_linear = Pipeline(steps=census_steps_linear)\n",
    "\n",
    "#inital shot \n",
    "stratified_kfold = StratifiedKFold(n_splits = 5, random_state=65, shuffle=True)\n",
    "scores = cross_val_score(census_pipeline, X_c_train, y_c_train, scoring='roc_auc', cv=stratified_kfold, n_jobs=3)\n",
    "print(f'Gradient Boosting  AUC imputing missing values: {round(np.mean(scores),3)}')\n",
    "X_c_test = test_data.drop('income', axis=1)\n",
    "y_c_test = test_data['income']\n",
    "fit_census = census_pipeline.fit(X_c_train,y_c_train)\n",
    "\n",
    "fit_census.score(X_c_test,y_c_test )"
   ]
  },
  {
   "cell_type": "code",
   "execution_count": 79,
   "id": "standing-mineral",
   "metadata": {},
   "outputs": [
    {
     "data": {
      "image/png": "[encoded data removed]",
      "text/plain": [
       "<Figure size 432x288 with 1 Axes>"
      ]
     },
     "metadata": {
      "needs_background": "light"
     },
     "output_type": "display_data"
    }
   ],
   "source": [
    "\n",
    "my_learn_curve(title=\" Support Vector Machine\", \n",
    "               estimator=census_pipeline_linear, \n",
    "               cv=stratified_kfold,\n",
    "               X=X_c_train, \n",
    "               y=y_c_train,  \n",
    "               label_suffix=\"linear\", \n",
    "               color_=[\"orange\",\"blue\"],\n",
    "               shape = 'o-'  )\n",
    "\n",
    "plt.savefig(\"SVM_CENSUS_BASE_LEARNING_CURVE.pdf\")\n",
    "\n",
    "\n",
    "# my_learn_curve(title=\" Support Vector Machine\", \n",
    "#                estimator=census_pipeline_rbf, \n",
    "#                cv=stratified_kfold,\n",
    "#                X=X_c_train, \n",
    "#                y=y_c_train,  \n",
    "#                label_suffix=\"rbf\", \n",
    "#                color_=[\"orange\",\"blue\"],\n",
    "#                shape = 'x-'  )\n",
    "\n"
   ]
  },
  {
   "cell_type": "code",
   "execution_count": 135,
   "id": "controlled-prague",
   "metadata": {},
   "outputs": [
    {
     "data": {
      "text/plain": [
       "<sklearn.metrics._plot.confusion_matrix.ConfusionMatrixDisplay at 0x7f6746da4d90>"
      ]
     },
     "execution_count": 135,
     "metadata": {},
     "output_type": "execute_result"
    },
    {
     "data": {
      "image/png": "[encoded data removed]",
      "text/plain": [
       "<Figure size 432x288 with 2 Axes>"
      ]
     },
     "metadata": {
      "needs_background": "light"
     },
     "output_type": "display_data"
    }
   ],
   "source": [
    "plot_confusion_matrix(estimator= census_pipeline_rbf.fit(X_c_train,y_c_train),\n",
    "                      X=X_c_train,\n",
    "                      y_true= y_c_train  , \n",
    "                      cmap=plt.cm.Blues,\n",
    "                       normalize=\"true\",\n",
    "                      display_labels = [\"Not Patient\" ,\"Patient\"]\n",
    "                        )"
   ]
  },
  {
   "cell_type": "code",
   "execution_count": 136,
   "id": "numerous-development",
   "metadata": {},
   "outputs": [
    {
     "data": {
      "text/plain": [
       "<sklearn.metrics._plot.confusion_matrix.ConfusionMatrixDisplay at 0x7f672f433ee0>"
      ]
     },
     "execution_count": 136,
     "metadata": {},
     "output_type": "execute_result"
    },
    {
     "data": {
      "image/png": "[encoded data removed]",
      "text/plain": [
       "<Figure size 432x288 with 2 Axes>"
      ]
     },
     "metadata": {
      "needs_background": "light"
     },
     "output_type": "display_data"
    }
   ],
   "source": [
    "plot_confusion_matrix(estimator= census_pipeline_linear.fit(X_c_train,y_c_train),\n",
    "                      X=X_c_train,\n",
    "                      y_true= y_c_train  , \n",
    "                      cmap=plt.cm.Blues,\n",
    "                       normalize=\"true\",\n",
    "                      display_labels = [\"Not Patient\" ,\"Patient\"]\n",
    "                        )"
   ]
  },
  {
   "cell_type": "markdown",
   "id": "permanent-luxury",
   "metadata": {},
   "source": [
    "## Complexity \n"
   ]
  },
  {
   "cell_type": "code",
   "execution_count": 138,
   "id": "entitled-lying",
   "metadata": {},
   "outputs": [
    {
     "data": {
      "image/png": "[encoded data removed]",
      "text/plain": [
       "<Figure size 432x288 with 1 Axes>"
      ]
     },
     "metadata": {
      "needs_background": "light"
     },
     "output_type": "display_data"
    }
   ],
   "source": [
    "# cv = ShuffleSplit(n_splits=10, test_size=0.1, random_state=0)\n",
    "cv = RepeatedStratifiedKFold(n_splits=5, n_repeats=1, random_state=45)\n",
    "train_scores, valid_scores = validation_curve(census_pipeline_rbf,\n",
    "                                              X_c_train,\n",
    "                                              y_c_train, \n",
    "                                              param_name =  \"model__C\",\n",
    "                                            param_range = np.linspace(0.1,5,10),\n",
    "                                            cv=cv)\n",
    "\n",
    "param_range =  np.linspace(0.1,5,10)\n",
    "\n",
    "train_scores_mean =  np.mean(train_scores, axis=1)\n",
    "train_scores_std = np.std(train_scores, axis=1)\n",
    "test_scores_mean = np.mean(valid_scores, axis=1)\n",
    "test_scores_std = np.std(valid_scores, axis=1)\n",
    "\n",
    "plt.title(\"Complexity Curve SVM\")\n",
    "plt.xlabel(\"C Values\")\n",
    "plt.ylabel(\"Score\")\n",
    "plt.ylim(0.0, 1.1)\n",
    "lw = 2\n",
    "# semilogx\n",
    "plt.plot(param_range, train_scores_mean, label=\"Training score\",\n",
    "             color=\"darkorange\", lw=lw)\n",
    "\n",
    "plt.fill_between(param_range, train_scores_mean - train_scores_std,\n",
    "                 train_scores_mean + train_scores_std, alpha=0.2,\n",
    "                 color=\"darkorange\", lw=lw)\n",
    "plt.plot(param_range, test_scores_mean, label=\"Cross-validation score\",\n",
    "             color=\"navy\", lw=lw)\n",
    "plt.fill_between(param_range, test_scores_mean - test_scores_std,\n",
    "                 test_scores_mean + test_scores_std, alpha=0.2,\n",
    "                 color=\"navy\", lw=lw)\n",
    "plt.legend(loc=\"best\")\n",
    "\n",
    "\n",
    "plt.savefig(\"complexity_svc_C.png\")\n",
    "# plt.show()"
   ]
  },
  {
   "cell_type": "code",
   "execution_count": null,
   "id": "consecutive-quarterly",
   "metadata": {},
   "outputs": [],
   "source": []
  },
  {
   "cell_type": "code",
   "execution_count": 142,
   "id": "noticed-slave",
   "metadata": {},
   "outputs": [
    {
     "data": {
      "image/png": "[encoded data removed]",
      "text/plain": [
       "<Figure size 432x288 with 1 Axes>"
      ]
     },
     "metadata": {
      "needs_background": "light"
     },
     "output_type": "display_data"
    }
   ],
   "source": [
    "# cv = ShuffleSplit(n_splits=10, test_size=0.1, random_state=0)\n",
    "cv = RepeatedStratifiedKFold(n_splits=5, n_repeats=1, random_state=45)\n",
    "train_scores, valid_scores = validation_curve(census_pipeline_rbf,\n",
    "                                              X_c_train,\n",
    "                                              y_c_train, \n",
    "                                              param_name =  \"model__gamma\",\n",
    "                                            param_range = np.linspace(1e-3,1.,5),\n",
    "                                            cv=cv)\n",
    "\n",
    "param_range =  np.linspace(1e-3,1.,5)\n",
    "\n",
    "train_scores_mean =  np.mean(train_scores, axis=1)\n",
    "train_scores_std = np.std(train_scores, axis=1)\n",
    "test_scores_mean = np.mean(valid_scores, axis=1)\n",
    "test_scores_std = np.std(valid_scores, axis=1)\n",
    "\n",
    "\n",
    "plt.title(\"Complexity Curve SVM \")\n",
    "plt.xlabel(\"Gamma Values\")\n",
    "plt.ylabel(\"Score\")\n",
    "plt.ylim(0.0, 1.1)\n",
    "lw = 2\n",
    "# semilogx\n",
    "plt.semilogx(param_range, train_scores_mean, label=\"Training score\",\n",
    "             color=\"darkorange\", lw=lw)\n",
    "\n",
    "plt.fill_between(param_range, train_scores_mean - train_scores_std,\n",
    "                 train_scores_mean + train_scores_std, alpha=0.2,\n",
    "                 color=\"darkorange\", lw=lw)\n",
    "plt.semilogx(param_range, test_scores_mean, label=\"Cross-validation score\",\n",
    "             color=\"navy\", lw=lw)\n",
    "plt.fill_between(param_range, test_scores_mean - test_scores_std,\n",
    "                 test_scores_mean + test_scores_std, alpha=0.2,\n",
    "                 color=\"navy\", lw=lw)\n",
    "plt.legend(loc=\"best\")\n",
    "\n",
    "\n",
    "plt.savefig(\"complexity_svc_gamma.pdf\")\n",
    "\n",
    "# plt.show()"
   ]
  },
  {
   "cell_type": "markdown",
   "id": "functional-passenger",
   "metadata": {},
   "source": [
    "## Grid search CV "
   ]
  },
  {
   "cell_type": "code",
   "execution_count": 88,
   "id": "metropolitan-immunology",
   "metadata": {},
   "outputs": [],
   "source": [
    "# Set the parameters by cross-validation\n",
    "\n",
    "\n",
    "\n",
    "\n",
    "\n",
    "tuned_parameters = [{'model__kernel': ['rbf'], 'model__gamma': np.linspace(1e-2,.1,5),\n",
    "                     'model__C': [ 1,2,3 ], \"model__class_weight\":[\"balanced\", None]},\n",
    "                    {'model__kernel': ['model__linear'], 'model__C': [ 1,2,3 ]}]\n",
    "\n",
    "\n",
    "# define the evaluation procedure\n",
    "cv = RepeatedStratifiedKFold(n_splits=5, n_repeats=1, random_state=45)\n",
    "# define the grid search procedure\n",
    "grid_search = GridSearchCV(estimator=census_pipeline, param_grid=tuned_parameters, \n",
    "                           n_jobs=-1, cv=cv, \n",
    "                           scoring='average_precision')\n",
    "# execute the grid search\n",
    "grid_result = grid_search.fit(X_c_train, y_c_train)\n",
    "# summarize the best score and configuration\n",
    "print(\"Best: %f usin g %s\" % (grid_result.best_score_, grid_result.best_params_))\n",
    "# summarize all scores that were evaluated\n",
    "means = grid_result.cv_results_['mean_test_score']\n",
    "stds = grid_result.cv_results_['std_test_score']\n",
    "params = grid_result.cv_results_['params']"
   ]
  },
  {
   "cell_type": "code",
   "execution_count": null,
   "id": "periodic-advancement",
   "metadata": {},
   "outputs": [],
   "source": [
    "# Best: 0.735783 usin g \n",
    "#     {'model__C': 1, 'model__class_weight': 'balanced', 'model__gamma': \"scale\", 'model__kernel': 'rbf'}"
   ]
  },
  {
   "cell_type": "code",
   "execution_count": 144,
   "id": "announced-thanksgiving",
   "metadata": {},
   "outputs": [],
   "source": [
    "params = grid_result.cv_results_['params']"
   ]
  },
  {
   "cell_type": "code",
   "execution_count": null,
   "id": "regulation-bedroom",
   "metadata": {},
   "outputs": [],
   "source": []
  },
  {
   "cell_type": "code",
   "execution_count": 33,
   "id": "protected-sperm",
   "metadata": {},
   "outputs": [],
   "source": [
    "#         ('over', SMOTE()),\n",
    "# Using pipeline\n",
    "census_steps =[('encoding', OneHotEncoder(cols=categorical_columns)),\n",
    "         ('imputer',SimpleImputer(missing_values=np.NaN, strategy='most_frequent')),\n",
    "         ('scaler', StandardScaler()),\n",
    "        (\"model\",  SVC( cache_size=10000, class_weight=\"balanced\", gamma=\"scale\", kernel=\"rbf\", probability=True))]\n",
    "\n",
    "census_pipeline = Pipeline(steps=census_steps)"
   ]
  },
  {
   "cell_type": "code",
   "execution_count": 83,
   "id": "accredited-large",
   "metadata": {},
   "outputs": [
    {
     "data": {
      "image/png": "[encoded data removed]",
      "text/plain": [
       "<Figure size 432x288 with 1 Axes>"
      ]
     },
     "metadata": {
      "needs_background": "light"
     },
     "output_type": "display_data"
    }
   ],
   "source": [
    "my_learn_curve(title=\" Support Vector Machine - Final Model\", \n",
    "               estimator=census_pipeline.fit(X_c_train,y_c_train), \n",
    "               cv=stratified_kfold,\n",
    "               X=X_c_train, \n",
    "               y=y_c_train,  \n",
    "               label_suffix=\"rbf\", \n",
    "               color_=[\"orange\",\"blue\"],\n",
    "               shape = 'x-'  )\n",
    "\n",
    "plt.savefig(\"SVM_CENSUS_final_learning_curve.pdf\")\n"
   ]
  },
  {
   "cell_type": "code",
   "execution_count": 30,
   "id": "boolean-isolation",
   "metadata": {},
   "outputs": [
    {
     "name": "stderr",
     "output_type": "stream",
     "text": [
      "/home/flufylobster/anaconda3/envs/ML39/lib/python3.9/site-packages/category_encoders/utils.py:21: FutureWarning: is_categorical is deprecated and will be removed in a future version.  Use is_categorical_dtype instead\n",
      "  elif pd.api.types.is_categorical(cols):\n"
     ]
    },
    {
     "name": "stdout",
     "output_type": "stream",
     "text": [
      "0.7823416538237339\n"
     ]
    },
    {
     "ename": "NameError",
     "evalue": "name 'y_c_test' is not defined",
     "output_type": "error",
     "traceback": [
      "\u001b[0;31m---------------------------------------------------------------------------\u001b[0m",
      "\u001b[0;31mNameError\u001b[0m                                 Traceback (most recent call last)",
      "\u001b[0;32m<ipython-input-30-d45c0d4e559a>\u001b[0m in \u001b[0;36m<module>\u001b[0;34m\u001b[0m\n\u001b[1;32m      1\u001b[0m \u001b[0mprint\u001b[0m\u001b[0;34m(\u001b[0m\u001b[0maverage_precision_score\u001b[0m\u001b[0;34m(\u001b[0m\u001b[0my_c_train\u001b[0m\u001b[0;34m,\u001b[0m \u001b[0mcensus_pipeline\u001b[0m\u001b[0;34m.\u001b[0m\u001b[0mfit\u001b[0m\u001b[0;34m(\u001b[0m\u001b[0mX_c_train\u001b[0m\u001b[0;34m,\u001b[0m \u001b[0my_c_train\u001b[0m\u001b[0;34m)\u001b[0m\u001b[0;34m.\u001b[0m\u001b[0mpredict_proba\u001b[0m\u001b[0;34m(\u001b[0m\u001b[0mX_c_train\u001b[0m\u001b[0;34m)\u001b[0m\u001b[0;34m[\u001b[0m\u001b[0;34m:\u001b[0m\u001b[0;34m,\u001b[0m\u001b[0;36m1\u001b[0m\u001b[0;34m]\u001b[0m\u001b[0;34m)\u001b[0m\u001b[0;34m)\u001b[0m\u001b[0;34m\u001b[0m\u001b[0;34m\u001b[0m\u001b[0m\n\u001b[0;32m----> 2\u001b[0;31m \u001b[0mprint\u001b[0m\u001b[0;34m(\u001b[0m\u001b[0maverage_precision_score\u001b[0m\u001b[0;34m(\u001b[0m\u001b[0my_c_test\u001b[0m\u001b[0;34m,\u001b[0m \u001b[0mcensus_pipeline\u001b[0m\u001b[0;34m.\u001b[0m\u001b[0mfit\u001b[0m\u001b[0;34m(\u001b[0m\u001b[0mX_c_train\u001b[0m\u001b[0;34m,\u001b[0m \u001b[0my_c_train\u001b[0m\u001b[0;34m)\u001b[0m\u001b[0;34m.\u001b[0m\u001b[0mpredict_proba\u001b[0m\u001b[0;34m(\u001b[0m\u001b[0mX_c_test\u001b[0m\u001b[0;34m)\u001b[0m\u001b[0;34m[\u001b[0m\u001b[0;34m:\u001b[0m\u001b[0;34m,\u001b[0m\u001b[0;36m1\u001b[0m\u001b[0;34m]\u001b[0m\u001b[0;34m)\u001b[0m\u001b[0;34m)\u001b[0m\u001b[0;34m\u001b[0m\u001b[0;34m\u001b[0m\u001b[0m\n\u001b[0m",
      "\u001b[0;31mNameError\u001b[0m: name 'y_c_test' is not defined"
     ]
    }
   ],
   "source": [
    "\n",
    "print(average_precision_score(y_c_train, census_pipeline.fit(X_c_train, y_c_train).predict_proba(X_c_train)[:,1]))\n"
   ]
  },
  {
   "cell_type": "code",
   "execution_count": 34,
   "id": "yellow-queue",
   "metadata": {},
   "outputs": [
    {
     "name": "stderr",
     "output_type": "stream",
     "text": [
      "/home/flufylobster/anaconda3/envs/ML39/lib/python3.9/site-packages/category_encoders/utils.py:21: FutureWarning: is_categorical is deprecated and will be removed in a future version.  Use is_categorical_dtype instead\n",
      "  elif pd.api.types.is_categorical(cols):\n"
     ]
    },
    {
     "name": "stdout",
     "output_type": "stream",
     "text": [
      "0.7479314579426083\n"
     ]
    }
   ],
   "source": [
    "print(average_precision_score(y_c_test, census_pipeline.fit(X_c_train, y_c_train).predict_proba(X_c_test)[:,1]))"
   ]
  },
  {
   "cell_type": "code",
   "execution_count": 87,
   "id": "integral-reservation",
   "metadata": {},
   "outputs": [
    {
     "name": "stdout",
     "output_type": "stream",
     "text": [
      "              precision    recall  f1-score   support\n",
      "\n",
      "          -1       0.96      0.80      0.87     19758\n",
      "           1       0.58      0.89      0.70      6271\n",
      "\n",
      "    accuracy                           0.82     26029\n",
      "   macro avg       0.77      0.84      0.79     26029\n",
      "weighted avg       0.87      0.82      0.83     26029\n",
      "\n",
      "              precision    recall  f1-score   support\n",
      "\n",
      "          -1       0.94      0.79      0.86      4940\n",
      "           1       0.55      0.84      0.67      1568\n",
      "\n",
      "    accuracy                           0.80      6508\n",
      "   macro avg       0.75      0.81      0.76      6508\n",
      "weighted avg       0.85      0.80      0.81      6508\n",
      "\n"
     ]
    }
   ],
   "source": [
    "X_c_test = test_data.drop('income', axis=1)\n",
    "y_c_test = test_data['income']\n",
    "print(classification_report(y_c_train, census_pipeline.fit(X_c_train,y_c_train).predict(X_c_train) ))\n",
    "print(classification_report(y_c_test, census_pipeline.fit(X_c_train,y_c_train).predict(X_c_test) ))"
   ]
  },
  {
   "cell_type": "code",
   "execution_count": 90,
   "id": "rubber-profit",
   "metadata": {},
   "outputs": [
    {
     "data": {
      "text/plain": [
       "<sklearn.metrics._plot.confusion_matrix.ConfusionMatrixDisplay at 0x7ff5a60f8550>"
      ]
     },
     "execution_count": 90,
     "metadata": {},
     "output_type": "execute_result"
    },
    {
     "data": {
      "image/png": "[encoded data removed]",
      "text/plain": [
       "<Figure size 432x288 with 2 Axes>"
      ]
     },
     "metadata": {
      "needs_background": "light"
     },
     "output_type": "display_data"
    }
   ],
   "source": [
    "plot_confusion_matrix(estimator=  census_pipeline.fit(X_c_train,y_c_train) ,\n",
    "                      X=X_c_train,\n",
    "                      y_true= y_c_train  , \n",
    "                      cmap=plt.cm.Blues,\n",
    "                       normalize=\"true\",\n",
    "                      display_labels = [\"Not Patient\" ,\"Patient\"]\n",
    "                        )"
   ]
  },
  {
   "cell_type": "code",
   "execution_count": null,
   "id": "specific-alpha",
   "metadata": {},
   "outputs": [],
   "source": []
  }
 ],
 "metadata": {
  "kernelspec": {
   "display_name": "Python 3",
   "language": "python",
   "name": "python3"
  },
  "language_info": {
   "codemirror_mode": {
    "name": "ipython",
    "version": 3
   },
   "file_extension": ".py",
   "mimetype": "text/x-python",
   "name": "python",
   "nbconvert_exporter": "python",
   "pygments_lexer": "ipython3",
   "version": "3.9.1"
  }
 },
 "nbformat": 4,
 "nbformat_minor": 5
}
