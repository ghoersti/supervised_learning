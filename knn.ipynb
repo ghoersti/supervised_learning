{
 "cells": [
  {
   "cell_type": "markdown",
   "id": "smaller-bradley",
   "metadata": {},
   "source": [
    "# KNN "
   ]
  },
  {
   "cell_type": "code",
   "execution_count": 10,
   "id": "requested-christianity",
   "metadata": {},
   "outputs": [],
   "source": [
    "import pandas as pd\n",
    "import sklearn\n",
    "from sklearn.tree import DecisionTreeClassifier\n",
    "from sklearn.metrics import accuracy_score\n",
    "from sklearn.ensemble import AdaBoostClassifier\n",
    "from sklearn.model_selection import train_test_split, StratifiedKFold, cross_val_score, learning_curve, ShuffleSplit, validation_curve\n",
    "from sklearn.metrics import plot_confusion_matrix\n",
    "import numpy as np\n",
    "import numpy as np\n",
    "import matplotlib.pyplot as plt\n",
    "from sklearn.naive_bayes import GaussianNB\n",
    "from sklearn.svm import SVC\n",
    "from imblearn.pipeline import Pipeline\n",
    "from category_encoders.one_hot import OneHotEncoder\n",
    "from sklearn.impute import SimpleImputer\n",
    "from imblearn.over_sampling import RandomOverSampler, SMOTE\n",
    "from mlxtend.evaluate import bias_variance_decomp\n",
    "from mlxtend.plotting import plot_decision_regions\n",
    "from sklearn.metrics import classification_report\n",
    "from imblearn.under_sampling import RandomUnderSampler\n",
    "\n",
    "from sklearn.datasets import make_classification\n",
    "from sklearn.model_selection import RepeatedStratifiedKFold\n",
    "from sklearn.model_selection import GridSearchCV ,cross_validate\n",
    "from sklearn.ensemble import AdaBoostClassifier\n",
    "from sklearn import tree\n",
    "from sklearn.preprocessing import StandardScaler, MinMaxScaler\n",
    "from sklearn.neural_network import MLPClassifier\n",
    "from sklearn.neighbors import KNeighborsClassifier\n",
    "from sklearn.metrics import average_precision_score"
   ]
  },
  {
   "cell_type": "code",
   "execution_count": 11,
   "id": "cellular-sleep",
   "metadata": {},
   "outputs": [],
   "source": [
    "def my_learn_curve(title=\"some title\", \n",
    "                   estimator=None, \n",
    "                   cv = None ,\n",
    "                   X=None,\n",
    "                   y=None,\n",
    "                   label_suffix =  None,\n",
    "                   color_= [],\n",
    "                   shape='o-'):\n",
    "    plt.title(title)\n",
    "    plt.ylim(0.0, 1.01)\n",
    "    plt.xlabel(\"Training examples\")\n",
    "    plt.ylabel(\"Score\")\n",
    "\n",
    "    train_sizes, train_scores, test_scores, fit_times, _ = \\\n",
    "        learning_curve(estimator, X, y, cv=cv, n_jobs=4,\n",
    "                       train_sizes=np.linspace(.1, 1.0, 10),\n",
    "                       return_times=True)\n",
    "    train_scores_mean =  1.0 - np.mean(train_scores, axis=1)\n",
    "    train_scores_std = np.std(train_scores, axis=1)\n",
    "    test_scores_mean =  1.0 - np.mean(test_scores, axis=1)\n",
    "    test_scores_std = np.std(test_scores, axis=1)\n",
    "    fit_times_mean = np.mean(fit_times, axis=1)\n",
    "    fit_times_std = np.std(fit_times, axis=1)\n",
    "\n",
    "\n",
    "    # Plot learning curve\n",
    "    plt.grid()\n",
    "    plt.fill_between(train_sizes,  train_scores_mean - train_scores_std,\n",
    "                         train_scores_mean + train_scores_std, alpha=0.1,\n",
    "                         color=\"r\")\n",
    "    plt.fill_between(train_sizes,  test_scores_mean - test_scores_std,\n",
    "                         test_scores_mean + test_scores_std, alpha=0.1,\n",
    "                         color=\"g\")\n",
    "    plt.plot(train_sizes, train_scores_mean, shape, color=color_[0],\n",
    "                 label=\"Training Error - {}\".format(label_suffix))\n",
    "    plt.plot(train_sizes, test_scores_mean,shape, color=color_[1],\n",
    "                 label=\"Cross-validation Error - {}\".format(label_suffix))\n",
    "    plt.legend(loc=\"best\")\n",
    "    plt.ylabel(\"Error\")\n",
    "    return plt"
   ]
  },
  {
   "cell_type": "code",
   "execution_count": 12,
   "id": "arctic-conclusion",
   "metadata": {},
   "outputs": [],
   "source": [
    "parent_dir = '/mnt/c/users/17752/Documents/GeorgiaTech/machine_learning'"
   ]
  },
  {
   "cell_type": "markdown",
   "id": "marine-income",
   "metadata": {},
   "source": [
    "# Liver Data "
   ]
  },
  {
   "cell_type": "code",
   "execution_count": 13,
   "id": "christian-electricity",
   "metadata": {},
   "outputs": [],
   "source": [
    "import warnings\n",
    "warnings.filterwarnings(\"ignore\")"
   ]
  },
  {
   "cell_type": "code",
   "execution_count": 14,
   "id": "prospective-latter",
   "metadata": {
    "scrolled": false
   },
   "outputs": [
    {
     "data": {
      "text/plain": [
       "0.7960526315789473"
      ]
     },
     "execution_count": 14,
     "metadata": {},
     "output_type": "execute_result"
    }
   ],
   "source": [
    "parent_dir = '/mnt/c/users/17752/Documents/GeorgiaTech/machine_learning'\n",
    "liver_df = pd.read_csv(f\"{parent_dir}/data/liver.csv\")\n",
    "liver_df = pd.read_csv(f\"{parent_dir}/data/liver.csv\")\n",
    "liver_df.drop_duplicates(inplace=True)\n",
    "impute_Albumin_and_Globulin_Ratio = liver_df[~liver_df.Albumin_and_Globulin_Ratio.isna()].Albumin_and_Globulin_Ratio.mean()\n",
    "filt_ =  liver_df.Albumin_and_Globulin_Ratio.isna()\n",
    "liver_df.loc[filt_, \"Albumin_and_Globulin_Ratio\" ]= impute_Albumin_and_Globulin_Ratio\n",
    "assert sum(liver_df.Albumin_and_Globulin_Ratio.isna()) == 0 \n",
    "# format response \n",
    "liver_df.loc[(liver_df.Dataset ==2), \"Dataset\" ] = -1\n",
    "liver_df.head(10)\n",
    "liver_df.loc[:,\"Gender\"] = pd.get_dummies(liver_df.Gender, prefix='gender').drop(\"gender_Male\", axis =1  ).gender_Female\n",
    "X = liver_df.loc[:, \"Age\":\"Albumin_and_Globulin_Ratio\"]\n",
    "y = liver_df[\"Dataset\"]\n",
    "X_train, X_test, y_train, y_test = train_test_split( X, y, test_size=0.2, random_state=62)\n",
    "\n",
    "#('over', SMOTE(sampling_strategy=\"minority\")\n",
    "#inital shot \n",
    "liver_steps = [('scaler', StandardScaler()),\n",
    "               (\"model\", KNeighborsClassifier())]\n",
    "liver_pipeline = Pipeline(steps=liver_steps)\n",
    "\n",
    "stratified_kfold = StratifiedKFold(n_splits = 10, random_state=42, shuffle=True)\n",
    "scores = cross_val_score(liver_pipeline, X_train, y_train, scoring='accuracy', cv=stratified_kfold, n_jobs=3)\n",
    "liver_pipeline.fit(X_train,y_train).score(X_train,y_train)"
   ]
  },
  {
   "cell_type": "code",
   "execution_count": 105,
   "id": "hungarian-robin",
   "metadata": {
    "scrolled": true
   },
   "outputs": [
    {
     "data": {
      "image/png": "[encoded data removed]",
      "text/plain": [
       "<Figure size 432x288 with 1 Axes>"
      ]
     },
     "metadata": {
      "needs_background": "light"
     },
     "output_type": "display_data"
    }
   ],
   "source": [
    "my_learn_curve(title=\"K Nearest Neighbors - Learning Curve\", \n",
    "               estimator=liver_pipeline.fit(X_train,y_train), \n",
    "               cv=stratified_kfold, \n",
    "               X=X_train,\n",
    "               y=y_train,\n",
    "               label_suffix=\"Base KNN\", \n",
    "               color_=[\"orange\",\"blue\"],\n",
    "               shape = 'o-'  )\n",
    "plt.savefig(\"KNN_BASE_LEARNING_CURVE\")"
   ]
  },
  {
   "cell_type": "code",
   "execution_count": 68,
   "id": "developed-computer",
   "metadata": {},
   "outputs": [
    {
     "data": {
      "text/plain": [
       "<sklearn.metrics._plot.confusion_matrix.ConfusionMatrixDisplay at 0x7f1bb8f551f0>"
      ]
     },
     "execution_count": 68,
     "metadata": {},
     "output_type": "execute_result"
    },
    {
     "data": {
      "image/png": "[encoded data removed]",
      "text/plain": [
       "<Figure size 432x288 with 2 Axes>"
      ]
     },
     "metadata": {
      "needs_background": "light"
     },
     "output_type": "display_data"
    }
   ],
   "source": [
    "plot_confusion_matrix(estimator= liver_pipeline.fit(X_train,y_train).fit(X_train,y_train), X=X_test, y_true= y_test  , \n",
    "                      cmap=plt.cm.Blues,\n",
    "                       normalize=\"true\",\n",
    "                      display_labels = [\"Not Patient\" ,\"Patient\"]\n",
    "                        )"
   ]
  },
  {
   "cell_type": "code",
   "execution_count": null,
   "id": "wooden-cutting",
   "metadata": {},
   "outputs": [],
   "source": [
    "# print(grid_result_l.best_estimator_.get_params())\n",
    "# print(classification_report(y_train, grid_result_l.predict(X_train) ))\n",
    "# print(classification_report(y_test, grid_result_l.predict(X_test) ))"
   ]
  },
  {
   "cell_type": "markdown",
   "id": "loving-shirt",
   "metadata": {},
   "source": [
    "## Validation Curve"
   ]
  },
  {
   "cell_type": "code",
   "execution_count": 20,
   "id": "robust-freedom",
   "metadata": {},
   "outputs": [],
   "source": [
    "import warnings\n",
    "warnings.filterwarnings(\"ignore\")"
   ]
  },
  {
   "cell_type": "code",
   "execution_count": 23,
   "id": "unique-appraisal",
   "metadata": {},
   "outputs": [
    {
     "data": {
      "text/plain": [
       "(456, 10)"
      ]
     },
     "execution_count": 23,
     "metadata": {},
     "output_type": "execute_result"
    }
   ],
   "source": [
    "X_train.shape[0]"
   ]
  },
  {
   "cell_type": "code",
   "execution_count": 43,
   "id": "bored-conclusion",
   "metadata": {},
   "outputs": [
    {
     "data": {
      "image/png": "[encoded data removed]",
      "text/plain": [
       "<Figure size 432x288 with 1 Axes>"
      ]
     },
     "metadata": {
      "needs_background": "light"
     },
     "output_type": "display_data"
    }
   ],
   "source": [
    "# cv = ShuffleSplit(n_splits=10, test_size=0.1, random_state=0)\n",
    "cv = RepeatedStratifiedKFold(n_splits=5, n_repeats=1, random_state=45)\n",
    "train_scores, valid_scores = validation_curve(liver_pipeline,\n",
    "                                              X_train,\n",
    "                                              y_train, \n",
    "                                              param_name =  \"model__n_neighbors\",\n",
    "                                            param_range =[ i for i in range (1,125, 1)] ,\n",
    "                                            cv=cv)\n",
    "\n",
    "param_range =   np.array([ i for i in range (1,125, 1)])\n",
    "train_scores_mean =  np.mean(train_scores, axis=1)\n",
    "train_scores_std = np.std(train_scores, axis=1)\n",
    "test_scores_mean = np.mean(valid_scores, axis=1)\n",
    "test_scores_std = np.std(valid_scores, axis=1)\n",
    "\n",
    "plt.title(\"Complexity Curve - KNN\")\n",
    "plt.xlabel(\"k (nearest neighbors)\")\n",
    "plt.ylabel(\"Score\")\n",
    "plt.ylim(0.0, 1.1)\n",
    "lw = 2\n",
    "# semilogx\n",
    "plt.plot(param_range, train_scores_mean, label=\"Training score\",\n",
    "             color=\"darkorange\", lw=lw)\n",
    "\n",
    "plt.fill_between(param_range, train_scores_mean - train_scores_std,\n",
    "                 train_scores_mean + train_scores_std, alpha=0.2,\n",
    "                 color=\"darkorange\", lw=lw)\n",
    "plt.plot(param_range, test_scores_mean, label=\"Cross-validation score\",\n",
    "             color=\"navy\", lw=lw)\n",
    "plt.fill_between(param_range, test_scores_mean - test_scores_std,\n",
    "                 test_scores_mean + test_scores_std, alpha=0.2,\n",
    "                 color=\"navy\", lw=lw)\n",
    "plt.legend(loc=\"best\")\n",
    "\n",
    "\n",
    "plt.savefig(\"KNN_LIVER_n_Neighbors.pdf\")\n",
    "\n",
    "plt.show()"
   ]
  },
  {
   "cell_type": "code",
   "execution_count": 58,
   "id": "starting-power",
   "metadata": {},
   "outputs": [
    {
     "data": {
      "image/png": "[encoded data removed]",
      "text/plain": [
       "<Figure size 432x288 with 1 Axes>"
      ]
     },
     "metadata": {
      "needs_background": "light"
     },
     "output_type": "display_data"
    }
   ],
   "source": [
    "# cv = ShuffleSplit(n_splits=10, test_size=0.1, random_state=0)\n",
    "cv = RepeatedStratifiedKFold(n_splits=5, n_repeats=1, random_state=45)\n",
    "train_scores, valid_scores = validation_curve(liver_pipeline,\n",
    "                                              X_train,\n",
    "                                              y_train, \n",
    "                                              param_name =  \"model__p\",\n",
    "                                            param_range =[ i for i in range (1,6, 1)] ,\n",
    "                                            cv=cv)\n",
    "\n",
    "param_range =   np.array([ i for i in range (1,6, 1)])\n",
    "train_scores_mean =  np.mean(train_scores, axis=1)\n",
    "train_scores_std = np.std(train_scores, axis=1)\n",
    "test_scores_mean = np.mean(valid_scores, axis=1)\n",
    "test_scores_std = np.std(valid_scores, axis=1)\n",
    "\n",
    "plt.title(\"Complexity Curve - KNN\")\n",
    "plt.xlabel(\"p (minkowski distance)\")\n",
    "plt.ylabel(\"Score\")\n",
    "plt.ylim(0.0, 1.1)\n",
    "lw = 2\n",
    "# semilogx\n",
    "plt.plot(param_range, train_scores_mean, label=\"Training score\",\n",
    "             color=\"darkorange\", lw=lw)\n",
    "plt.xticks([ i for i in range (1,6, 1)],[ i for i in range (1,6, 1)])\n",
    "\n",
    "plt.fill_between(param_range, train_scores_mean - train_scores_std,\n",
    "                 train_scores_mean + train_scores_std, alpha=0.2,\n",
    "                 color=\"darkorange\", lw=lw)\n",
    "plt.plot(param_range, test_scores_mean, label=\"Cross-validation score\",\n",
    "             color=\"navy\", lw=lw)\n",
    "plt.fill_between(param_range, test_scores_mean - test_scores_std,\n",
    "                 test_scores_mean + test_scores_std, alpha=0.2,\n",
    "                 color=\"navy\", lw=lw)\n",
    "plt.legend(loc=\"best\")\n",
    "\n",
    "\n",
    "plt.savefig(\"KNN_LIVER_n_minkowski_p.pdf\")\n",
    "\n",
    "plt.show()\n",
    "\n"
   ]
  },
  {
   "cell_type": "markdown",
   "id": "happy-shelf",
   "metadata": {},
   "source": [
    "## Grid Search Liver "
   ]
  },
  {
   "cell_type": "code",
   "execution_count": 8,
   "id": "prospective-premiere",
   "metadata": {},
   "outputs": [
    {
     "name": "stdout",
     "output_type": "stream",
     "text": [
      "Best: 0.847174 usin g {'model__n_neighbors': 39, 'model__p': 1, 'model__weights': 'uniform'}\n"
     ]
    }
   ],
   "source": [
    "# Set the parameters by cross-validation\n",
    "\n",
    "\n",
    "\n",
    "tuned_parameters = {'model__n_neighbors': [i for i in range(1,40,1)], \n",
    "                    'model__p': [i for i in range(1,6,1)],\n",
    "                    'model__weights': [\"uniform\"]}\n",
    "                    \n",
    "\n",
    "\n",
    "# define the evaluation procedure\n",
    "cv = RepeatedStratifiedKFold(n_splits=10, n_repeats=1, random_state=45)\n",
    "# define the grid search procedure\n",
    "grid_search = GridSearchCV(estimator=liver_pipeline, param_grid=tuned_parameters, \n",
    "                           n_jobs=-1, cv=cv, \n",
    "                           scoring='average_precision')\n",
    "# execute the grid search\n",
    "grid_result_l= grid_search.fit(X_train, y_train)\n",
    "# summarize the best score and configuration\n",
    "print(\"Best: %f usin g %s\" % (grid_result_l.best_score_, grid_result_l.best_params_))\n",
    "# summarize all scores that were evaluated\n",
    "means = grid_result_l.cv_results_['mean_test_score']\n",
    "stds = grid_result_l.cv_results_['std_test_score']\n",
    "params = grid_result_l.cv_results_['params']"
   ]
  },
  {
   "cell_type": "code",
   "execution_count": 124,
   "id": "official-swedish",
   "metadata": {},
   "outputs": [
    {
     "data": {
      "text/plain": [
       "<sklearn.metrics._plot.confusion_matrix.ConfusionMatrixDisplay at 0x7f1baff37490>"
      ]
     },
     "execution_count": 124,
     "metadata": {},
     "output_type": "execute_result"
    },
    {
     "data": {
      "image/png": "[encoded data removed]",
      "text/plain": [
       "<Figure size 432x288 with 2 Axes>"
      ]
     },
     "metadata": {
      "needs_background": "light"
     },
     "output_type": "display_data"
    }
   ],
   "source": [
    "plot_confusion_matrix(estimator= grid_result_l, X=X_test, y_true= y_test  , \n",
    "                      cmap=plt.cm.Blues,\n",
    "                       normalize=\"true\",\n",
    "                      display_labels = [\"Not Patient\" ,\"Patient\"]\n",
    "                        )"
   ]
  },
  {
   "cell_type": "code",
   "execution_count": 9,
   "id": "tight-diversity",
   "metadata": {},
   "outputs": [
    {
     "data": {
      "image/png": "[encoded data removed]",
      "text/plain": [
       "<Figure size 432x288 with 1 Axes>"
      ]
     },
     "metadata": {
      "needs_background": "light"
     },
     "output_type": "display_data"
    }
   ],
   "source": [
    "cv = RepeatedStratifiedKFold(n_splits=10, n_repeats=1, random_state=45)\n",
    "my_learn_curve(title=\"KNN\", \n",
    "               estimator=grid_result_l.best_estimator_, \n",
    "               cv=cv, \n",
    "               X=X_train,\n",
    "               y=y_train,\n",
    "               label_suffix=\"best-KNN\", \n",
    "               color_=[\"orange\",\"blue\"],\n",
    "               shape = 'o-'  )\n",
    "plt.savefig(\"knn_final_learning_curve.pdf\")"
   ]
  },
  {
   "cell_type": "code",
   "execution_count": null,
   "id": "exclusive-queens",
   "metadata": {},
   "outputs": [],
   "source": [
    "# Best: 0.906910 usin g {'model__activation': 'logistic', 'model__alpha': 0.035807142857142864, 'model__learning_rate': 'invscaling', 'model__max_iter': 70, 'model__solver': 'lbfgs'}"
   ]
  },
  {
   "cell_type": "code",
   "execution_count": 20,
   "id": "solved-damage",
   "metadata": {},
   "outputs": [
    {
     "data": {
      "text/plain": [
       "0.89732924186148"
      ]
     },
     "execution_count": 20,
     "metadata": {},
     "output_type": "execute_result"
    }
   ],
   "source": [
    "average_precision_score( y_train, liver_pipeline.fit(X_train, y_train).predict_proba(X_train)[:,1])"
   ]
  },
  {
   "cell_type": "code",
   "execution_count": 18,
   "id": "attractive-choir",
   "metadata": {},
   "outputs": [
    {
     "data": {
      "text/plain": [
       "0.8716363560319653"
      ]
     },
     "execution_count": 18,
     "metadata": {},
     "output_type": "execute_result"
    }
   ],
   "source": [
    "average_precision_score( y_train, final_liver.predict_proba(X_train)[:,1])"
   ]
  },
  {
   "cell_type": "code",
   "execution_count": 19,
   "id": "exceptional-concentrate",
   "metadata": {},
   "outputs": [
    {
     "data": {
      "text/plain": [
       "0.909531890693394"
      ]
     },
     "execution_count": 19,
     "metadata": {},
     "output_type": "execute_result"
    }
   ],
   "source": [
    "average_precision_score( y_test, final_liver.predict_proba(X_test)[:,1])"
   ]
  },
  {
   "cell_type": "code",
   "execution_count": 16,
   "id": "integrated-regard",
   "metadata": {},
   "outputs": [
    {
     "name": "stdout",
     "output_type": "stream",
     "text": [
      "{'memory': None, 'steps': [('scaler', StandardScaler()), ('model', KNeighborsClassifier(n_neighbors=39, p=1))], 'verbose': False, 'scaler': StandardScaler(), 'model': KNeighborsClassifier(n_neighbors=39, p=1), 'scaler__copy': True, 'scaler__with_mean': True, 'scaler__with_std': True, 'model__algorithm': 'auto', 'model__leaf_size': 30, 'model__metric': 'minkowski', 'model__metric_params': None, 'model__n_jobs': None, 'model__n_neighbors': 39, 'model__p': 1, 'model__weights': 'uniform'}\n",
      "              precision    recall  f1-score   support\n",
      "\n",
      "          -1       0.50      0.13      0.21       138\n",
      "           1       0.71      0.94      0.81       318\n",
      "\n",
      "    accuracy                           0.70       456\n",
      "   macro avg       0.61      0.54      0.51       456\n",
      "weighted avg       0.65      0.70      0.63       456\n",
      "\n",
      "              precision    recall  f1-score   support\n",
      "\n",
      "          -1       0.50      0.27      0.35        26\n",
      "           1       0.81      0.92      0.86        88\n",
      "\n",
      "    accuracy                           0.77       114\n",
      "   macro avg       0.66      0.59      0.61       114\n",
      "weighted avg       0.74      0.77      0.74       114\n",
      "\n"
     ]
    }
   ],
   "source": [
    "final_liver = grid_result_l.best_estimator_.fit(X_train,y_train)\n",
    "print(final_liver.get_params())\n",
    "print(classification_report(y_train, final_liver.predict(X_train) ))\n",
    "print(classification_report(y_test, final_liver.predict(X_test) ))"
   ]
  },
  {
   "cell_type": "code",
   "execution_count": null,
   "id": "through-packing",
   "metadata": {},
   "outputs": [],
   "source": [
    "liver_steps = [('scaler', StandardScaler()),\n",
    "               (\"model\", KNeighborsClassifier())]\n",
    "liver_pipeline = Pipeline(steps=liver_steps)"
   ]
  },
  {
   "cell_type": "markdown",
   "id": "loose-sixth",
   "metadata": {},
   "source": [
    "## Census Data "
   ]
  },
  {
   "cell_type": "code",
   "execution_count": 22,
   "id": "regional-finding",
   "metadata": {},
   "outputs": [
    {
     "name": "stdout",
     "output_type": "stream",
     "text": [
      "Train data shape is (26029, 15)\n",
      "Test data shape is (6508, 15)\n"
     ]
    }
   ],
   "source": [
    "census_df = pd.read_csv(f\"{parent_dir}/data/adult.csv\")\n",
    "census_df.drop_duplicates(inplace=True)\n",
    "# # Deleting duplicates \n",
    "census_df.duplicated().sum()\n",
    "#Replacing '?' for nans\n",
    "census_df = census_df.replace('?', np.NaN)\n",
    "# Mapping already our target variable in  1 and -1\n",
    "census_df.income = census_df.income.map({'<=50K':-1, '>50K':1})\n",
    "\n",
    "train_data, test_data = train_test_split(census_df,\n",
    "                                         test_size=0.2,\n",
    "                                         stratify=census_df['income'],\n",
    "                                         random_state=65)\n",
    "print('Train data shape is {}'.format(train_data.shape))\n",
    "print('Test data shape is {}'.format(test_data.shape))\n",
    "X_c_train = train_data.drop('income', axis=1)\n",
    "y_c_train = train_data['income']\n",
    "\n",
    "#Transforming categorical columns\n",
    "categorical_columns= X_c_train.select_dtypes(object).columns\n",
    "\n",
    "\n",
    "#         ('over', SMOTE()),\n",
    "# Using pipeline\n",
    "census_steps =[('encoding', OneHotEncoder(cols=categorical_columns)),\n",
    "         ('imputer',SimpleImputer(missing_values=np.NaN, strategy='most_frequent')),\n",
    "         ('scaler', StandardScaler()),\n",
    "          ('under', RandomUnderSampler(random_state=62)),\n",
    "        (\"model\",   KNeighborsClassifier())]\n",
    "\n",
    "census_pipeline = Pipeline(steps=census_steps)\n",
    "\n",
    "\n",
    "\n",
    "\n",
    "\n",
    "\n",
    "#inital shot \n",
    "stratified_kfold = StratifiedKFold(n_splits = 5, random_state=65, shuffle=True)\n",
    "scores = cross_val_score(census_pipeline, X_c_train, y_c_train, scoring='accuracy', cv=stratified_kfold, n_jobs=3)\n",
    "print(f'Initial accuracy : {round(np.mean(scores),3)}')\n",
    "X_c_test = test_data.drop('income', axis=1)\n",
    "y_c_test = test_data['income']\n",
    "\n"
   ]
  },
  {
   "cell_type": "code",
   "execution_count": 25,
   "id": "supposed-contamination",
   "metadata": {},
   "outputs": [
    {
     "data": {
      "image/png": "[encoded data removed]",
      "text/plain": [
       "<Figure size 432x288 with 1 Axes>"
      ]
     },
     "metadata": {
      "needs_background": "light"
     },
     "output_type": "display_data"
    }
   ],
   "source": [
    "\n",
    "my_learn_curve(title=\" KNN Base Learning Curve\", \n",
    "               estimator=census_pipeline.fit(X_c_train,y_c_train), \n",
    "               cv=stratified_kfold,\n",
    "               X=X_c_train, \n",
    "               y=y_c_train,  \n",
    "               label_suffix=\"linear\", \n",
    "               color_=[\"orange\",\"blue\"],\n",
    "               shape = 'o-'  )\n",
    "\n",
    "plt.savefig(\"KNN_census_base_learning_curve.pdf\")\n",
    "\n",
    "\n",
    "# my_learn_curve(title=\" Support Vector Machine\", \n",
    "#                estimator=census_pipeline_rbf, \n",
    "#                cv=stratified_kfold,\n",
    "#                X=X_c_train, \n",
    "#                y=y_c_train,  \n",
    "#                label_suffix=\"rbf\", \n",
    "#                color_=[\"orange\",\"blue\"],\n",
    "#                shape = 'x-'  )\n",
    "\n"
   ]
  },
  {
   "cell_type": "code",
   "execution_count": 21,
   "id": "expressed-acoustic",
   "metadata": {},
   "outputs": [
    {
     "data": {
      "text/plain": [
       "<sklearn.metrics._plot.confusion_matrix.ConfusionMatrixDisplay at 0x7f89194f0640>"
      ]
     },
     "execution_count": 21,
     "metadata": {},
     "output_type": "execute_result"
    },
    {
     "data": {
      "image/png": "[encoded data removed]",
      "text/plain": [
       "<Figure size 432x288 with 2 Axes>"
      ]
     },
     "metadata": {
      "needs_background": "light"
     },
     "output_type": "display_data"
    }
   ],
   "source": [
    "plot_confusion_matrix(estimator= census_pipeline.fit(X_c_train,y_c_train),\n",
    "                      X=X_c_train,\n",
    "                      y_true= y_c_train  , \n",
    "                      cmap=plt.cm.Blues,\n",
    "                       normalize=\"true\",\n",
    "                      display_labels = [\"< $50k\" ,\"> $50k\"]\n",
    "                        )"
   ]
  },
  {
   "cell_type": "markdown",
   "id": "agreed-wholesale",
   "metadata": {},
   "source": [
    "## Complexity \n"
   ]
  },
  {
   "cell_type": "code",
   "execution_count": 38,
   "id": "swiss-solid",
   "metadata": {
    "scrolled": false
   },
   "outputs": [],
   "source": [
    "# cv = ShuffleSplit(n_splits=10, test_size=0.1, random_state=0)\n",
    "cv = RepeatedStratifiedKFold(n_splits=5, n_repeats=1, random_state=45)\n",
    "train_scores, valid_scores = validation_curve(census_pipeline,\n",
    "                                              X_c_train,\n",
    "                                              y_c_train, \n",
    "                                              param_name =  \"model__n_neighbors\",\n",
    "                                            param_range =[ i for i in range (1,41, 5)] ,\n",
    "                                            cv=cv)\n",
    "\n",
    "param_range =   np.array([ i for i in range (1,101, 5)])\n",
    "train_scores_mean =  np.mean(train_scores, axis=1)\n",
    "train_scores_std = np.std(train_scores, axis=1)\n",
    "test_scores_mean = np.mean(valid_scores, axis=1)\n",
    "test_scores_std = np.std(valid_scores, axis=1)\n",
    "\n",
    "plt.title(\"Complexity Curve - KNN\")\n",
    "plt.xlabel(\"k (nearest neighbors)\")\n",
    "plt.ylabel(\"Score\")\n",
    "plt.ylim(0.0, 1.1)\n",
    "lw = 2\n",
    "# semilogx\n",
    "plt.plot(param_range, train_scores_mean, label=\"Training score\",\n",
    "             color=\"darkorange\", lw=lw)\n",
    "\n",
    "plt.fill_between(param_range, train_scores_mean - train_scores_std,\n",
    "                 train_scores_mean + train_scores_std, alpha=0.2,\n",
    "                 color=\"darkorange\", lw=lw)\n",
    "plt.plot(param_range, test_scores_mean, label=\"Cross-validation score\",\n",
    "             color=\"navy\", lw=lw)\n",
    "plt.fill_between(param_range, test_scores_mean - test_scores_std,\n",
    "                 test_scores_mean + test_scores_std, alpha=0.2,\n",
    "                 color=\"navy\", lw=lw)\n",
    "plt.legend(loc=\"best\")\n",
    "\n",
    "\n",
    "plt.savefig(\"KNN_census_n_Neighbors.pdf\")\n",
    "\n",
    "plt.show()"
   ]
  },
  {
   "cell_type": "code",
   "execution_count": 7,
   "id": "labeled-rainbow",
   "metadata": {},
   "outputs": [
    {
     "data": {
      "image/png": "[encoded data removed]",
      "text/plain": [
       "<Figure size 432x288 with 1 Axes>"
      ]
     },
     "metadata": {
      "needs_background": "light"
     },
     "output_type": "display_data"
    }
   ],
   "source": [
    "# cv = ShuffleSplit(n_splits=10, test_size=0.1, random_state=0)\n",
    "cv = RepeatedStratifiedKFold(n_splits=5, n_repeats=1, random_state=45)\n",
    "train_scores, valid_scores = validation_curve(census_pipeline,\n",
    "                                              X_c_train,\n",
    "                                              y_c_train, \n",
    "                                              param_name =  \"model__p\",\n",
    "                                            param_range =[ i for i in range (1,4, 1)] ,\n",
    "                                            cv=cv)\n",
    "\n",
    "param_range =   np.array([ i for i in range (1,4, 1)])\n",
    "train_scores_mean =  np.mean(train_scores, axis=1)\n",
    "train_scores_std = np.std(train_scores, axis=1)\n",
    "test_scores_mean = np.mean(valid_scores, axis=1)\n",
    "test_scores_std = np.std(valid_scores, axis=1)\n",
    "\n",
    "plt.title(\"Complexity Curve - KNN\")\n",
    "plt.xlabel(\"p (minkowski distance)\")\n",
    "plt.ylabel(\"Score\")\n",
    "plt.ylim(0.0, 1.1)\n",
    "lw = 2\n",
    "# semilogx\n",
    "plt.plot(param_range, train_scores_mean, label=\"Training score\",\n",
    "             color=\"darkorange\", lw=lw)\n",
    "\n",
    "plt.xticks([ i for i in range (1,4, 1)],[ i for i in range (1,4, 1)])\n",
    "\n",
    "plt.fill_between(param_range, train_scores_mean - train_scores_std,\n",
    "                 train_scores_mean + train_scores_std, alpha=0.2,\n",
    "                 color=\"darkorange\", lw=lw)\n",
    "plt.plot(param_range, test_scores_mean, label=\"Cross-validation score\",\n",
    "             color=\"navy\", lw=lw)\n",
    "plt.fill_between(param_range, test_scores_mean - test_scores_std,\n",
    "                 test_scores_mean + test_scores_std, alpha=0.2,\n",
    "                 color=\"navy\", lw=lw)\n",
    "plt.legend(loc=\"best\")\n",
    "\n",
    "\n",
    "plt.savefig(\"KNN_census_p.pdf\")\n",
    "\n",
    "plt.show()"
   ]
  },
  {
   "cell_type": "code",
   "execution_count": 9,
   "id": "handled-forty",
   "metadata": {},
   "outputs": [
    {
     "name": "stdout",
     "output_type": "stream",
     "text": [
      "Best: 0.679478 usin g {'model__n_neighbors': 19, 'model__p': 1, 'model__weights': 'distance'}\n"
     ]
    }
   ],
   "source": [
    "# Set the parameters by cross-validation\n",
    "\n",
    "\n",
    "\n",
    "tuned_parameters = {'model__n_neighbors': [i for i in range(1,20,1)], \n",
    "                    'model__p': [i for i in range(1,3,1)],\n",
    "                    'model__weights': [\"uniform\",\"distance\"]}\n",
    "                    \n",
    "\n",
    "\n",
    "# define the evaluation procedure\n",
    "cv = RepeatedStratifiedKFold(n_splits=10, n_repeats=1, random_state=45)\n",
    "# define the grid search procedure\n",
    "grid_search = GridSearchCV(estimator=census_pipeline, param_grid=tuned_parameters, \n",
    "                           n_jobs=-1, cv=cv, \n",
    "                           scoring='average_precision')\n",
    "# execute the grid search\n",
    "grid_result_l= grid_search.fit(X_c_train, y_c_train)\n",
    "# summarize the best score and configuration\n",
    "print(\"Best: %f usin g %s\" % (grid_result_l.best_score_, grid_result_l.best_params_))\n",
    "# summarize all scores that were evaluated\n",
    "means = grid_result_l.cv_results_['mean_test_score']\n",
    "stds = grid_result_l.cv_results_['std_test_score']\n",
    "params = grid_result_l.cv_results_['params']"
   ]
  },
  {
   "cell_type": "markdown",
   "id": "unauthorized-shakespeare",
   "metadata": {},
   "source": [
    "## final pipelien"
   ]
  },
  {
   "cell_type": "code",
   "execution_count": 23,
   "id": "respiratory-folder",
   "metadata": {},
   "outputs": [],
   "source": [
    "census_steps_f =[('encoding', OneHotEncoder(cols=categorical_columns)),\n",
    "         ('imputer',SimpleImputer(missing_values=np.NaN, strategy='most_frequent')),\n",
    "         ('scaler', StandardScaler()),\n",
    "          ('under', RandomUnderSampler(random_state=62)),\n",
    "        (\"model\",   KNeighborsClassifier(n_neighbors=19))]\n",
    "\n",
    "census_pipeline_f = Pipeline(steps=census_steps)"
   ]
  },
  {
   "cell_type": "code",
   "execution_count": null,
   "id": "broke-democrat",
   "metadata": {},
   "outputs": [],
   "source": []
  },
  {
   "cell_type": "code",
   "execution_count": 30,
   "id": "compact-tobacco",
   "metadata": {},
   "outputs": [
    {
     "data": {
      "image/png": "[encoded data removed]",
      "text/plain": [
       "<Figure size 432x288 with 1 Axes>"
      ]
     },
     "metadata": {
      "needs_background": "light"
     },
     "output_type": "display_data"
    }
   ],
   "source": [
    "my_learn_curve(title=\"KNN\", \n",
    "               estimator=census_pipeline_f.fit(X_c_train,y_c_train), \n",
    "               cv=stratified_kfold,\n",
    "               X=X_c_train, \n",
    "               y=y_c_train,  \n",
    "               label_suffix=\"KNN\", \n",
    "               color_=[\"orange\",\"blue\"],\n",
    "               shape = 'x-'  )\n",
    "\n",
    "plt.savefig(\"final_census_learning_cirve_knn.pdf\")\n"
   ]
  },
  {
   "cell_type": "code",
   "execution_count": 24,
   "id": "female-intellectual",
   "metadata": {},
   "outputs": [],
   "source": [
    "final_knn_c = census_pipeline_f.fit(X_c_train,y_c_train)"
   ]
  },
  {
   "cell_type": "markdown",
   "id": "standard-stack",
   "metadata": {},
   "source": [
    "## AP "
   ]
  },
  {
   "cell_type": "code",
   "execution_count": 30,
   "id": "underlying-valentine",
   "metadata": {},
   "outputs": [
    {
     "data": {
      "text/plain": [
       "0.6617935082470394"
      ]
     },
     "execution_count": 30,
     "metadata": {},
     "output_type": "execute_result"
    }
   ],
   "source": [
    "average_precision_score(y_c_train,census_pipeline.fit(X_c_train,y_c_train).predict_proba(X_c_train)[:,1])"
   ]
  },
  {
   "cell_type": "code",
   "execution_count": 25,
   "id": "average-dietary",
   "metadata": {},
   "outputs": [
    {
     "data": {
      "text/plain": [
       "0.6617935082470394"
      ]
     },
     "execution_count": 25,
     "metadata": {},
     "output_type": "execute_result"
    }
   ],
   "source": [
    "average_precision_score(y_c_train,final_knn_c.predict_proba(X_c_train)[:,1] )"
   ]
  },
  {
   "cell_type": "code",
   "execution_count": 28,
   "id": "numerous-laugh",
   "metadata": {},
   "outputs": [
    {
     "data": {
      "text/plain": [
       "0.5707230496586965"
      ]
     },
     "execution_count": 28,
     "metadata": {},
     "output_type": "execute_result"
    }
   ],
   "source": [
    "average_precision_score(y_c_test,final_knn_c.predict_proba(X_c_test)[:,1] )"
   ]
  },
  {
   "cell_type": "markdown",
   "id": "monthly-federal",
   "metadata": {},
   "source": [
    "## distance"
   ]
  },
  {
   "cell_type": "code",
   "execution_count": 35,
   "id": "generic-passage",
   "metadata": {},
   "outputs": [
    {
     "name": "stdout",
     "output_type": "stream",
     "text": [
      "{'memory': None, 'steps': [('encoding', OneHotEncoder(cols=Index(['workclass', 'education', 'marital.status', 'occupation',\n",
      "       'relationship', 'race', 'sex', 'native.country'],\n",
      "      dtype='object'))), ('imputer', SimpleImputer(strategy='most_frequent')), ('scaler', StandardScaler()), ('under', RandomUnderSampler(random_state=62)), ('model', KNeighborsClassifier(n_neighbors=19, p=1, weights='distance'))], 'verbose': False, 'encoding': OneHotEncoder(cols=Index(['workclass', 'education', 'marital.status', 'occupation',\n",
      "       'relationship', 'race', 'sex', 'native.country'],\n",
      "      dtype='object')), 'imputer': SimpleImputer(strategy='most_frequent'), 'scaler': StandardScaler(), 'under': RandomUnderSampler(random_state=62), 'model': KNeighborsClassifier(n_neighbors=19, p=1, weights='distance'), 'encoding__cols': Index(['workclass', 'education', 'marital.status', 'occupation',\n",
      "       'relationship', 'race', 'sex', 'native.country'],\n",
      "      dtype='object'), 'encoding__drop_invariant': False, 'encoding__handle_missing': 'value', 'encoding__handle_unknown': 'value', 'encoding__return_df': True, 'encoding__use_cat_names': False, 'encoding__verbose': 0, 'imputer__add_indicator': False, 'imputer__copy': True, 'imputer__fill_value': None, 'imputer__missing_values': nan, 'imputer__strategy': 'most_frequent', 'imputer__verbose': 0, 'scaler__copy': True, 'scaler__with_mean': True, 'scaler__with_std': True, 'under__random_state': 62, 'under__replacement': False, 'under__sampling_strategy': 'auto', 'model__algorithm': 'auto', 'model__leaf_size': 30, 'model__metric': 'minkowski', 'model__metric_params': None, 'model__n_jobs': None, 'model__n_neighbors': 19, 'model__p': 1, 'model__weights': 'distance'}\n",
      "              precision    recall  f1-score   support\n",
      "\n",
      "          -1       1.00      0.84      0.91     19758\n",
      "           1       0.66      1.00      0.80      6271\n",
      "\n",
      "    accuracy                           0.88     26029\n",
      "   macro avg       0.83      0.92      0.85     26029\n",
      "weighted avg       0.92      0.88      0.88     26029\n",
      "\n",
      "              precision    recall  f1-score   support\n",
      "\n",
      "          -1       0.93      0.76      0.84      4940\n",
      "           1       0.52      0.82      0.64      1568\n",
      "\n",
      "    accuracy                           0.77      6508\n",
      "   macro avg       0.73      0.79      0.74      6508\n",
      "weighted avg       0.83      0.77      0.79      6508\n",
      "\n"
     ]
    }
   ],
   "source": [
    "print(grid_result_l.best_estimator_.get_params())\n",
    "print(classification_report(y_c_train, grid_result_l.best_estimator_.predict(X_c_train) ))\n",
    "print(classification_report(y_c_test, grid_result_l.best_estimator_.predict(X_c_test) ))"
   ]
  },
  {
   "cell_type": "code",
   "execution_count": 29,
   "id": "bored-jungle",
   "metadata": {},
   "outputs": [
    {
     "data": {
      "text/plain": [
       "<sklearn.metrics._plot.confusion_matrix.ConfusionMatrixDisplay at 0x7ff6956fc310>"
      ]
     },
     "execution_count": 29,
     "metadata": {},
     "output_type": "execute_result"
    },
    {
     "data": {
      "image/png": "[encoded data removed]",
      "text/plain": [
       "<Figure size 432x288 with 2 Axes>"
      ]
     },
     "metadata": {
      "needs_background": "light"
     },
     "output_type": "display_data"
    }
   ],
   "source": [
    "plot_confusion_matrix(estimator=  get_census_pipeline_final().fit(X_c_train, y_c_train),\n",
    "                      X=X_c_train,\n",
    "                      y_true= y_c_train  , \n",
    "                      cmap=plt.cm.Blues,\n",
    "                       normalize=\"true\",\n",
    "                      display_labels = [\"<$50k\" ,\"> $50k\"]\n",
    "                        )"
   ]
  }
 ],
 "metadata": {
  "kernelspec": {
   "display_name": "Python 3",
   "language": "python",
   "name": "python3"
  },
  "language_info": {
   "codemirror_mode": {
    "name": "ipython",
    "version": 3
   },
   "file_extension": ".py",
   "mimetype": "text/x-python",
   "name": "python",
   "nbconvert_exporter": "python",
   "pygments_lexer": "ipython3",
   "version": "3.9.1"
  }
 },
 "nbformat": 4,
 "nbformat_minor": 5
}
